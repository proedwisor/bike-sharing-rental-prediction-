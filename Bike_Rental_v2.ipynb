{
 "cells": [
  {
   "cell_type": "markdown",
   "metadata": {},
   "source": [
    "#          Project_EDWISOR ====> Bike Renting"
   ]
  },
  {
   "cell_type": "code",
   "execution_count": 188,
   "metadata": {},
   "outputs": [],
   "source": [
    "%matplotlib inline\n",
    "import pandas as pd\n",
    "import seaborn as sns\n",
    "import matplotlib.pyplot as plt\n",
    "import numpy as np\n",
    "import datetime"
   ]
  },
  {
   "cell_type": "code",
   "execution_count": 189,
   "metadata": {},
   "outputs": [
    {
     "name": "stdout",
     "output_type": "stream",
     "text": [
      "No.of rows = 731\n",
      "No. of columns = 16\n"
     ]
    },
    {
     "data": {
      "text/html": [
       "<div>\n",
       "<style scoped>\n",
       "    .dataframe tbody tr th:only-of-type {\n",
       "        vertical-align: middle;\n",
       "    }\n",
       "\n",
       "    .dataframe tbody tr th {\n",
       "        vertical-align: top;\n",
       "    }\n",
       "\n",
       "    .dataframe thead th {\n",
       "        text-align: right;\n",
       "    }\n",
       "</style>\n",
       "<table border=\"1\" class=\"dataframe\">\n",
       "  <thead>\n",
       "    <tr style=\"text-align: right;\">\n",
       "      <th></th>\n",
       "      <th>instant</th>\n",
       "      <th>dteday</th>\n",
       "      <th>season</th>\n",
       "      <th>yr</th>\n",
       "      <th>mnth</th>\n",
       "      <th>holiday</th>\n",
       "      <th>weekday</th>\n",
       "      <th>workingday</th>\n",
       "      <th>weathersit</th>\n",
       "      <th>temp</th>\n",
       "      <th>atemp</th>\n",
       "      <th>hum</th>\n",
       "      <th>windspeed</th>\n",
       "      <th>casual</th>\n",
       "      <th>registered</th>\n",
       "      <th>cnt</th>\n",
       "    </tr>\n",
       "  </thead>\n",
       "  <tbody>\n",
       "    <tr>\n",
       "      <th>0</th>\n",
       "      <td>1</td>\n",
       "      <td>2011-01-01</td>\n",
       "      <td>1</td>\n",
       "      <td>0</td>\n",
       "      <td>1</td>\n",
       "      <td>0</td>\n",
       "      <td>6</td>\n",
       "      <td>0</td>\n",
       "      <td>2</td>\n",
       "      <td>0.344167</td>\n",
       "      <td>0.363625</td>\n",
       "      <td>0.805833</td>\n",
       "      <td>0.160446</td>\n",
       "      <td>331</td>\n",
       "      <td>654</td>\n",
       "      <td>985</td>\n",
       "    </tr>\n",
       "    <tr>\n",
       "      <th>1</th>\n",
       "      <td>2</td>\n",
       "      <td>2011-01-02</td>\n",
       "      <td>1</td>\n",
       "      <td>0</td>\n",
       "      <td>1</td>\n",
       "      <td>0</td>\n",
       "      <td>0</td>\n",
       "      <td>0</td>\n",
       "      <td>2</td>\n",
       "      <td>0.363478</td>\n",
       "      <td>0.353739</td>\n",
       "      <td>0.696087</td>\n",
       "      <td>0.248539</td>\n",
       "      <td>131</td>\n",
       "      <td>670</td>\n",
       "      <td>801</td>\n",
       "    </tr>\n",
       "    <tr>\n",
       "      <th>2</th>\n",
       "      <td>3</td>\n",
       "      <td>2011-01-03</td>\n",
       "      <td>1</td>\n",
       "      <td>0</td>\n",
       "      <td>1</td>\n",
       "      <td>0</td>\n",
       "      <td>1</td>\n",
       "      <td>1</td>\n",
       "      <td>1</td>\n",
       "      <td>0.196364</td>\n",
       "      <td>0.189405</td>\n",
       "      <td>0.437273</td>\n",
       "      <td>0.248309</td>\n",
       "      <td>120</td>\n",
       "      <td>1229</td>\n",
       "      <td>1349</td>\n",
       "    </tr>\n",
       "    <tr>\n",
       "      <th>3</th>\n",
       "      <td>4</td>\n",
       "      <td>2011-01-04</td>\n",
       "      <td>1</td>\n",
       "      <td>0</td>\n",
       "      <td>1</td>\n",
       "      <td>0</td>\n",
       "      <td>2</td>\n",
       "      <td>1</td>\n",
       "      <td>1</td>\n",
       "      <td>0.200000</td>\n",
       "      <td>0.212122</td>\n",
       "      <td>0.590435</td>\n",
       "      <td>0.160296</td>\n",
       "      <td>108</td>\n",
       "      <td>1454</td>\n",
       "      <td>1562</td>\n",
       "    </tr>\n",
       "    <tr>\n",
       "      <th>4</th>\n",
       "      <td>5</td>\n",
       "      <td>2011-01-05</td>\n",
       "      <td>1</td>\n",
       "      <td>0</td>\n",
       "      <td>1</td>\n",
       "      <td>0</td>\n",
       "      <td>3</td>\n",
       "      <td>1</td>\n",
       "      <td>1</td>\n",
       "      <td>0.226957</td>\n",
       "      <td>0.229270</td>\n",
       "      <td>0.436957</td>\n",
       "      <td>0.186900</td>\n",
       "      <td>82</td>\n",
       "      <td>1518</td>\n",
       "      <td>1600</td>\n",
       "    </tr>\n",
       "  </tbody>\n",
       "</table>\n",
       "</div>"
      ],
      "text/plain": [
       "   instant      dteday  season  yr  mnth  holiday  weekday  workingday  \\\n",
       "0        1  2011-01-01       1   0     1        0        6           0   \n",
       "1        2  2011-01-02       1   0     1        0        0           0   \n",
       "2        3  2011-01-03       1   0     1        0        1           1   \n",
       "3        4  2011-01-04       1   0     1        0        2           1   \n",
       "4        5  2011-01-05       1   0     1        0        3           1   \n",
       "\n",
       "   weathersit      temp     atemp       hum  windspeed  casual  registered  \\\n",
       "0           2  0.344167  0.363625  0.805833   0.160446     331         654   \n",
       "1           2  0.363478  0.353739  0.696087   0.248539     131         670   \n",
       "2           1  0.196364  0.189405  0.437273   0.248309     120        1229   \n",
       "3           1  0.200000  0.212122  0.590435   0.160296     108        1454   \n",
       "4           1  0.226957  0.229270  0.436957   0.186900      82        1518   \n",
       "\n",
       "    cnt  \n",
       "0   985  \n",
       "1   801  \n",
       "2  1349  \n",
       "3  1562  \n",
       "4  1600  "
      ]
     },
     "execution_count": 189,
     "metadata": {},
     "output_type": "execute_result"
    }
   ],
   "source": [
    "# To read data from excel file\n",
    "data = pd.read_csv('E:\\DS Courses\\Edwisor\\Project 2\\day.csv')\n",
    "print('No.of rows = ' + format(data.shape[0]))\n",
    "print('No. of columns = ' + format(data.shape[1]))\n",
    "data.head()"
   ]
  },
  {
   "cell_type": "code",
   "execution_count": 190,
   "metadata": {},
   "outputs": [
    {
     "data": {
      "text/html": [
       "<div>\n",
       "<style scoped>\n",
       "    .dataframe tbody tr th:only-of-type {\n",
       "        vertical-align: middle;\n",
       "    }\n",
       "\n",
       "    .dataframe tbody tr th {\n",
       "        vertical-align: top;\n",
       "    }\n",
       "\n",
       "    .dataframe thead th {\n",
       "        text-align: right;\n",
       "    }\n",
       "</style>\n",
       "<table border=\"1\" class=\"dataframe\">\n",
       "  <thead>\n",
       "    <tr style=\"text-align: right;\">\n",
       "      <th></th>\n",
       "      <th>instant</th>\n",
       "      <th>season</th>\n",
       "      <th>yr</th>\n",
       "      <th>mnth</th>\n",
       "      <th>holiday</th>\n",
       "      <th>weekday</th>\n",
       "      <th>workingday</th>\n",
       "      <th>weathersit</th>\n",
       "      <th>temp</th>\n",
       "      <th>atemp</th>\n",
       "      <th>hum</th>\n",
       "      <th>windspeed</th>\n",
       "      <th>casual</th>\n",
       "      <th>registered</th>\n",
       "      <th>cnt</th>\n",
       "    </tr>\n",
       "  </thead>\n",
       "  <tbody>\n",
       "    <tr>\n",
       "      <th>count</th>\n",
       "      <td>731.000000</td>\n",
       "      <td>731.000000</td>\n",
       "      <td>731.000000</td>\n",
       "      <td>731.000000</td>\n",
       "      <td>731.000000</td>\n",
       "      <td>731.000000</td>\n",
       "      <td>731.000000</td>\n",
       "      <td>731.000000</td>\n",
       "      <td>731.000000</td>\n",
       "      <td>731.000000</td>\n",
       "      <td>731.000000</td>\n",
       "      <td>731.000000</td>\n",
       "      <td>731.000000</td>\n",
       "      <td>731.000000</td>\n",
       "      <td>731.000000</td>\n",
       "    </tr>\n",
       "    <tr>\n",
       "      <th>mean</th>\n",
       "      <td>366.000000</td>\n",
       "      <td>2.496580</td>\n",
       "      <td>0.500684</td>\n",
       "      <td>6.519836</td>\n",
       "      <td>0.028728</td>\n",
       "      <td>2.997264</td>\n",
       "      <td>0.683995</td>\n",
       "      <td>1.395349</td>\n",
       "      <td>0.495385</td>\n",
       "      <td>0.474354</td>\n",
       "      <td>0.627894</td>\n",
       "      <td>0.190486</td>\n",
       "      <td>848.176471</td>\n",
       "      <td>3656.172367</td>\n",
       "      <td>4504.348837</td>\n",
       "    </tr>\n",
       "    <tr>\n",
       "      <th>std</th>\n",
       "      <td>211.165812</td>\n",
       "      <td>1.110807</td>\n",
       "      <td>0.500342</td>\n",
       "      <td>3.451913</td>\n",
       "      <td>0.167155</td>\n",
       "      <td>2.004787</td>\n",
       "      <td>0.465233</td>\n",
       "      <td>0.544894</td>\n",
       "      <td>0.183051</td>\n",
       "      <td>0.162961</td>\n",
       "      <td>0.142429</td>\n",
       "      <td>0.077498</td>\n",
       "      <td>686.622488</td>\n",
       "      <td>1560.256377</td>\n",
       "      <td>1937.211452</td>\n",
       "    </tr>\n",
       "    <tr>\n",
       "      <th>min</th>\n",
       "      <td>1.000000</td>\n",
       "      <td>1.000000</td>\n",
       "      <td>0.000000</td>\n",
       "      <td>1.000000</td>\n",
       "      <td>0.000000</td>\n",
       "      <td>0.000000</td>\n",
       "      <td>0.000000</td>\n",
       "      <td>1.000000</td>\n",
       "      <td>0.059130</td>\n",
       "      <td>0.079070</td>\n",
       "      <td>0.000000</td>\n",
       "      <td>0.022392</td>\n",
       "      <td>2.000000</td>\n",
       "      <td>20.000000</td>\n",
       "      <td>22.000000</td>\n",
       "    </tr>\n",
       "    <tr>\n",
       "      <th>25%</th>\n",
       "      <td>183.500000</td>\n",
       "      <td>2.000000</td>\n",
       "      <td>0.000000</td>\n",
       "      <td>4.000000</td>\n",
       "      <td>0.000000</td>\n",
       "      <td>1.000000</td>\n",
       "      <td>0.000000</td>\n",
       "      <td>1.000000</td>\n",
       "      <td>0.337083</td>\n",
       "      <td>0.337842</td>\n",
       "      <td>0.520000</td>\n",
       "      <td>0.134950</td>\n",
       "      <td>315.500000</td>\n",
       "      <td>2497.000000</td>\n",
       "      <td>3152.000000</td>\n",
       "    </tr>\n",
       "    <tr>\n",
       "      <th>50%</th>\n",
       "      <td>366.000000</td>\n",
       "      <td>3.000000</td>\n",
       "      <td>1.000000</td>\n",
       "      <td>7.000000</td>\n",
       "      <td>0.000000</td>\n",
       "      <td>3.000000</td>\n",
       "      <td>1.000000</td>\n",
       "      <td>1.000000</td>\n",
       "      <td>0.498333</td>\n",
       "      <td>0.486733</td>\n",
       "      <td>0.626667</td>\n",
       "      <td>0.180975</td>\n",
       "      <td>713.000000</td>\n",
       "      <td>3662.000000</td>\n",
       "      <td>4548.000000</td>\n",
       "    </tr>\n",
       "    <tr>\n",
       "      <th>75%</th>\n",
       "      <td>548.500000</td>\n",
       "      <td>3.000000</td>\n",
       "      <td>1.000000</td>\n",
       "      <td>10.000000</td>\n",
       "      <td>0.000000</td>\n",
       "      <td>5.000000</td>\n",
       "      <td>1.000000</td>\n",
       "      <td>2.000000</td>\n",
       "      <td>0.655417</td>\n",
       "      <td>0.608602</td>\n",
       "      <td>0.730209</td>\n",
       "      <td>0.233214</td>\n",
       "      <td>1096.000000</td>\n",
       "      <td>4776.500000</td>\n",
       "      <td>5956.000000</td>\n",
       "    </tr>\n",
       "    <tr>\n",
       "      <th>max</th>\n",
       "      <td>731.000000</td>\n",
       "      <td>4.000000</td>\n",
       "      <td>1.000000</td>\n",
       "      <td>12.000000</td>\n",
       "      <td>1.000000</td>\n",
       "      <td>6.000000</td>\n",
       "      <td>1.000000</td>\n",
       "      <td>3.000000</td>\n",
       "      <td>0.861667</td>\n",
       "      <td>0.840896</td>\n",
       "      <td>0.972500</td>\n",
       "      <td>0.507463</td>\n",
       "      <td>3410.000000</td>\n",
       "      <td>6946.000000</td>\n",
       "      <td>8714.000000</td>\n",
       "    </tr>\n",
       "  </tbody>\n",
       "</table>\n",
       "</div>"
      ],
      "text/plain": [
       "          instant      season          yr        mnth     holiday     weekday  \\\n",
       "count  731.000000  731.000000  731.000000  731.000000  731.000000  731.000000   \n",
       "mean   366.000000    2.496580    0.500684    6.519836    0.028728    2.997264   \n",
       "std    211.165812    1.110807    0.500342    3.451913    0.167155    2.004787   \n",
       "min      1.000000    1.000000    0.000000    1.000000    0.000000    0.000000   \n",
       "25%    183.500000    2.000000    0.000000    4.000000    0.000000    1.000000   \n",
       "50%    366.000000    3.000000    1.000000    7.000000    0.000000    3.000000   \n",
       "75%    548.500000    3.000000    1.000000   10.000000    0.000000    5.000000   \n",
       "max    731.000000    4.000000    1.000000   12.000000    1.000000    6.000000   \n",
       "\n",
       "       workingday  weathersit        temp       atemp         hum   windspeed  \\\n",
       "count  731.000000  731.000000  731.000000  731.000000  731.000000  731.000000   \n",
       "mean     0.683995    1.395349    0.495385    0.474354    0.627894    0.190486   \n",
       "std      0.465233    0.544894    0.183051    0.162961    0.142429    0.077498   \n",
       "min      0.000000    1.000000    0.059130    0.079070    0.000000    0.022392   \n",
       "25%      0.000000    1.000000    0.337083    0.337842    0.520000    0.134950   \n",
       "50%      1.000000    1.000000    0.498333    0.486733    0.626667    0.180975   \n",
       "75%      1.000000    2.000000    0.655417    0.608602    0.730209    0.233214   \n",
       "max      1.000000    3.000000    0.861667    0.840896    0.972500    0.507463   \n",
       "\n",
       "            casual   registered          cnt  \n",
       "count   731.000000   731.000000   731.000000  \n",
       "mean    848.176471  3656.172367  4504.348837  \n",
       "std     686.622488  1560.256377  1937.211452  \n",
       "min       2.000000    20.000000    22.000000  \n",
       "25%     315.500000  2497.000000  3152.000000  \n",
       "50%     713.000000  3662.000000  4548.000000  \n",
       "75%    1096.000000  4776.500000  5956.000000  \n",
       "max    3410.000000  6946.000000  8714.000000  "
      ]
     },
     "execution_count": 190,
     "metadata": {},
     "output_type": "execute_result"
    }
   ],
   "source": [
    "data.describe()"
   ]
  },
  {
   "cell_type": "markdown",
   "metadata": {},
   "source": [
    "## Missing Values"
   ]
  },
  {
   "cell_type": "markdown",
   "metadata": {},
   "source": [
    "The count of all the attributes in the above cell is 731. This shows that there are no values missing.\n",
    "\n",
    "In the next cell, the same has been verified. There is no need for further missing value analysis."
   ]
  },
  {
   "cell_type": "code",
   "execution_count": 191,
   "metadata": {},
   "outputs": [
    {
     "data": {
      "text/plain": [
       "instant       0\n",
       "dteday        0\n",
       "season        0\n",
       "yr            0\n",
       "mnth          0\n",
       "holiday       0\n",
       "weekday       0\n",
       "workingday    0\n",
       "weathersit    0\n",
       "temp          0\n",
       "atemp         0\n",
       "hum           0\n",
       "windspeed     0\n",
       "casual        0\n",
       "registered    0\n",
       "cnt           0\n",
       "dtype: int64"
      ]
     },
     "execution_count": 191,
     "metadata": {},
     "output_type": "execute_result"
    }
   ],
   "source": [
    "data.isnull().sum()"
   ]
  },
  {
   "cell_type": "markdown",
   "metadata": {},
   "source": [
    "## Updating the Attributes"
   ]
  },
  {
   "cell_type": "markdown",
   "metadata": {},
   "source": [
    "temp: Normalized temperature in Celsius. The values are derived via\n",
    "(t-t_min)/(t_max-t_min),\n",
    "t_min=-8, t_max=+39 (only in hourly scale)"
   ]
  },
  {
   "cell_type": "markdown",
   "metadata": {},
   "source": [
    "atemp: Normalized feeling temperature in Celsius. The values are derived via\n",
    "(t-t_min)/(t_maxt_\n",
    "min), t_min=-16, t_max=+50 (only in hourly scale)\n",
    "hum: Normalized humidity. The values are divided to"
   ]
  },
  {
   "cell_type": "markdown",
   "metadata": {},
   "source": [
    "hum: Normalized humidity. The values are divided to 100 (max)\n",
    "\n",
    "windspeed: Normalized wind speed. The values are divided to 67 (max)"
   ]
  },
  {
   "cell_type": "markdown",
   "metadata": {},
   "source": [
    "We will also add a new attribute with the mean of the two temperatures"
   ]
  },
  {
   "cell_type": "code",
   "execution_count": 192,
   "metadata": {},
   "outputs": [],
   "source": [
    "data.temp = data.temp *(39-(-8))+(-8)\n",
    "data.atemp = data.atemp*(50-(-16))+(-16)\n",
    "\n",
    "data.hum = data.hum*100\n",
    "data.windspeed = data.windspeed*67"
   ]
  },
  {
   "cell_type": "code",
   "execution_count": 193,
   "metadata": {},
   "outputs": [],
   "source": [
    "# As we have two different temperature with a slight difference, I will be using a new temperature variable\n",
    "# This variable will be derived by calculating the mean of the 'temperature' and 'feeling temperature'\n",
    "data['avtemp'] = (data.temp + data.atemp)/2\n",
    "data = data[['instant', 'dteday', 'season', 'yr', 'mnth', 'holiday', 'weekday',\n",
    "       'workingday', 'weathersit', 'temp', 'atemp','avtemp', 'hum', 'windspeed',\n",
    "       'casual', 'registered', 'cnt']]"
   ]
  },
  {
   "cell_type": "markdown",
   "metadata": {},
   "source": [
    "## Catagorical Data"
   ]
  },
  {
   "cell_type": "code",
   "execution_count": 194,
   "metadata": {},
   "outputs": [
    {
     "name": "stdout",
     "output_type": "stream",
     "text": [
      "710\n",
      "21\n"
     ]
    }
   ],
   "source": [
    "# Since the number of rows where 'holiday = 0' is 710 and 21 for 'holiday = 1'\n",
    "# It can easily be interpreted that the 0 represents a working day and 1 represents a non working day\n",
    "\n",
    "print(data[data.holiday == 0].shape[0])\n",
    "print(data[data.holiday == 1].shape[0])\n",
    "\n",
    "\n",
    "\n",
    "data.replace({'holiday' : 0}, 'generic', inplace=True)\n",
    "data.replace({'holiday' : 1}, 'holiday', inplace= True)"
   ]
  },
  {
   "cell_type": "code",
   "execution_count": 195,
   "metadata": {},
   "outputs": [],
   "source": [
    "# Converting the variable season\n",
    "\n",
    "all_season = ['Spring','Summer','Fall', 'Winter']\n",
    "\n",
    "for i in range(len(all_season)):\n",
    "    data.replace({'season': i+1} ,all_season[i], inplace = True)\n",
    "\n",
    "# Converting yr\n",
    "data.replace({'yr' : 0}, '2011', inplace= True)\n",
    "data.replace({'yr' : 1}, '2012', inplace= True)    \n",
    "\n",
    "# Converting month\n",
    "all_months = ['January', 'February', 'March','April','May','June','July','August','September','October','November','December'] \n",
    "for i in range(len(all_months)): \n",
    "    data.replace({'mnth': i+1} ,all_months[i], inplace = True) \n",
    "\n",
    "    \n",
    "# Converting weather situation\n",
    "data.replace({'weathersit': 1}, 'Pleasant', inplace = True)\n",
    "data.replace({'weathersit': 2}, 'Moderate', inplace = True)\n",
    "data.replace({'weathersit': 3}, 'Bad', inplace = True)\n",
    "data.replace({'weathersit': 4}, 'Extreme', inplace = True)\n",
    "\n",
    "# Checked Calender details of 2011.\n",
    "# The year starts with Saturday where date is 1/1/2011. Dataset represents this date by '6'\n",
    "# It can be interpreted as the weekday starts with Sunday represented by '0'\n",
    "# Converting the variable w_day\n",
    "\n",
    "all_wday = ['Sunday','Monday','Tuesday','Wednesday', 'Thursday', 'Friday', 'Saturday']\n",
    "for i in range(len(all_wday)):\n",
    "    data.replace({'weekday': i}, all_wday[i], inplace = True)\n",
    "    "
   ]
  },
  {
   "cell_type": "code",
   "execution_count": 196,
   "metadata": {},
   "outputs": [],
   "source": [
    "\n",
    "# 0 It can be a week off or a holidy.\n",
    "# 1 is neither weekend nor holiday. Hence it is working day\n",
    "\n",
    "data.replace({'workingday': 0}, 'day off', inplace = True)\n",
    "data.replace({'workingday': 1}, 'working', inplace = True)\n",
    "    \n",
    "    "
   ]
  },
  {
   "cell_type": "code",
   "execution_count": 197,
   "metadata": {},
   "outputs": [
    {
     "name": "stdout",
     "output_type": "stream",
     "text": [
      "Favourable days on holidays are ['Monday' 'Friday' 'Thursday' 'Wednesday' 'Tuesday']\n",
      "Favourable generic days are ['Saturday' 'Sunday' 'Monday' 'Tuesday' 'Wednesday' 'Thursday' 'Friday']\n"
     ]
    }
   ],
   "source": [
    "# This shows that the holiday is not overlapping with weekend offs(Saturday, Sunday)\n",
    "# This shows any given day is either 'working' or 'week off' or 'holiday'. None of these are overlapping with any other.\n",
    "\n",
    "print('Favourable days on holidays are '+ format(data[data.holiday == 'holiday'].weekday.unique()) )\n",
    "print('Favourable generic days are ' + format(data[data.holiday == 'generic'].weekday.unique()))"
   ]
  },
  {
   "cell_type": "markdown",
   "metadata": {},
   "source": [
    "The above code cell tells us that there is no overlap between holiday and week-offs. Holidays, working days and weekoffs(Sat Sun) are independent of each other"
   ]
  },
  {
   "cell_type": "markdown",
   "metadata": {},
   "source": [
    "## Data Distribution"
   ]
  },
  {
   "cell_type": "markdown",
   "metadata": {},
   "source": [
    "### Distribution of target variable 'cnt' representing the total number of bikes rented on a given day"
   ]
  },
  {
   "cell_type": "code",
   "execution_count": 198,
   "metadata": {},
   "outputs": [
    {
     "name": "stderr",
     "output_type": "stream",
     "text": [
      "C:\\ProgramData\\Anaconda3\\lib\\site-packages\\scipy\\stats\\stats.py:1713: FutureWarning: Using a non-tuple sequence for multidimensional indexing is deprecated; use `arr[tuple(seq)]` instead of `arr[seq]`. In the future this will be interpreted as an array index, `arr[np.array(seq)]`, which will result either in an error or a different result.\n",
      "  return np.add.reduce(sorted[indexer] * weights, axis=axis) / sumval\n"
     ]
    },
    {
     "data": {
      "text/plain": [
       "<matplotlib.axes._subplots.AxesSubplot at 0x17e5bf60>"
      ]
     },
     "execution_count": 198,
     "metadata": {},
     "output_type": "execute_result"
    },
    {
     "data": {
      "image/png": "[encoded data removed]",
      "text/plain": [
       "<Figure size 1440x360 with 1 Axes>"
      ]
     },
     "metadata": {
      "needs_background": "light"
     },
     "output_type": "display_data"
    }
   ],
   "source": [
    "# The distribution of this variabe is almost normal\n",
    "f, ax = plt.subplots(figsize= (20,5))\n",
    "sns.distplot(data.cnt, bins= 80)"
   ]
  },
  {
   "cell_type": "markdown",
   "metadata": {},
   "source": [
    "### Distribution of other continuous variables"
   ]
  },
  {
   "cell_type": "code",
   "execution_count": 199,
   "metadata": {},
   "outputs": [
    {
     "data": {
      "image/png": "[encoded data removed]",
      "text/plain": [
       "<Figure size 720x504 with 9 Axes>"
      ]
     },
     "metadata": {
      "needs_background": "light"
     },
     "output_type": "display_data"
    }
   ],
   "source": [
    "data[['temp','atemp','avtemp','windspeed','registered','casual','hum']].hist(figsize= (10,7))\n",
    "plt.show()"
   ]
  },
  {
   "cell_type": "markdown",
   "metadata": {},
   "source": [
    "###  Distribution of Catagorical variables"
   ]
  },
  {
   "cell_type": "code",
   "execution_count": 200,
   "metadata": {},
   "outputs": [
    {
     "data": {
      "image/png": "[encoded data removed]",
      "text/plain": [
       "<Figure size 1440x360 with 1 Axes>"
      ]
     },
     "metadata": {
      "needs_background": "light"
     },
     "output_type": "display_data"
    }
   ],
   "source": [
    "fig = plt.figure(figsize=(20, 5))\n",
    "sns.set(style=\"whitegrid\")\n",
    "ax = sns.boxplot(x=\"season\", y=\"cnt\", data=data)"
   ]
  },
  {
   "cell_type": "code",
   "execution_count": 201,
   "metadata": {},
   "outputs": [
    {
     "data": {
      "image/png": "[encoded data removed]",
      "text/plain": [
       "<Figure size 1440x360 with 1 Axes>"
      ]
     },
     "metadata": {},
     "output_type": "display_data"
    }
   ],
   "source": [
    "df = data\n",
    "df['dteday'] = pd.DatetimeIndex(df['dteday']).day\n",
    "fig = plt.figure(figsize=(20, 5))\n",
    "sns.set(style=\"whitegrid\")\n",
    "ax = sns.boxplot(x=\"dteday\", y=\"cnt\", data=df)"
   ]
  },
  {
   "cell_type": "code",
   "execution_count": 202,
   "metadata": {},
   "outputs": [
    {
     "name": "stderr",
     "output_type": "stream",
     "text": [
      "C:\\ProgramData\\Anaconda3\\lib\\site-packages\\scipy\\stats\\stats.py:1713: FutureWarning: Using a non-tuple sequence for multidimensional indexing is deprecated; use `arr[tuple(seq)]` instead of `arr[seq]`. In the future this will be interpreted as an array index, `arr[np.array(seq)]`, which will result either in an error or a different result.\n",
      "  return np.add.reduce(sorted[indexer] * weights, axis=axis) / sumval\n"
     ]
    },
    {
     "data": {
      "text/plain": [
       "<seaborn.axisgrid.FacetGrid at 0x189f9048>"
      ]
     },
     "execution_count": 202,
     "metadata": {},
     "output_type": "execute_result"
    },
    {
     "data": {
      "image/png": "[encoded data removed]",
      "text/plain": [
       "<Figure size 360x360 with 1 Axes>"
      ]
     },
     "metadata": {},
     "output_type": "display_data"
    }
   ],
   "source": [
    "sns.catplot(x=\"yr\", y= 'cnt', kind = 'violin', data=data,hue = 'yr', palette= {'2011':'r','2012': 'y'})"
   ]
  },
  {
   "cell_type": "code",
   "execution_count": 203,
   "metadata": {},
   "outputs": [
    {
     "name": "stderr",
     "output_type": "stream",
     "text": [
      "C:\\ProgramData\\Anaconda3\\lib\\site-packages\\scipy\\stats\\stats.py:1713: FutureWarning: Using a non-tuple sequence for multidimensional indexing is deprecated; use `arr[tuple(seq)]` instead of `arr[seq]`. In the future this will be interpreted as an array index, `arr[np.array(seq)]`, which will result either in an error or a different result.\n",
      "  return np.add.reduce(sorted[indexer] * weights, axis=axis) / sumval\n"
     ]
    },
    {
     "data": {
      "text/plain": [
       "<seaborn.axisgrid.FacetGrid at 0x19018b38>"
      ]
     },
     "execution_count": 203,
     "metadata": {},
     "output_type": "execute_result"
    },
    {
     "data": {
      "image/png": "[encoded data removed]",
      "text/plain": [
       "<Figure size 360x360 with 1 Axes>"
      ]
     },
     "metadata": {},
     "output_type": "display_data"
    }
   ],
   "source": [
    "sns.catplot(x=\"workingday\", y= 'cnt', kind = 'violin', data=data,hue = 'workingday', palette= {'day off':'r','working': 'y'})"
   ]
  },
  {
   "cell_type": "code",
   "execution_count": 204,
   "metadata": {},
   "outputs": [
    {
     "data": {
      "image/png": "[encoded data removed]",
      "text/plain": [
       "<Figure size 1440x360 with 1 Axes>"
      ]
     },
     "metadata": {},
     "output_type": "display_data"
    }
   ],
   "source": [
    "fig = plt.figure(figsize=(20, 5))\n",
    "sns.set(style=\"whitegrid\")\n",
    "ax = sns.boxplot(x=\"mnth\", y=\"cnt\", data=data)"
   ]
  },
  {
   "cell_type": "code",
   "execution_count": 205,
   "metadata": {},
   "outputs": [
    {
     "data": {
      "image/png": "[encoded data removed]",
      "text/plain": [
       "<Figure size 1440x360 with 1 Axes>"
      ]
     },
     "metadata": {},
     "output_type": "display_data"
    }
   ],
   "source": [
    "fig = plt.figure(figsize=(20, 5))\n",
    "sns.set(style=\"whitegrid\")\n",
    "ax = sns.boxplot(x=\"weekday\", y=\"cnt\", data=data)"
   ]
  },
  {
   "cell_type": "code",
   "execution_count": 206,
   "metadata": {},
   "outputs": [
    {
     "data": {
      "image/png": "[encoded data removed]",
      "text/plain": [
       "<Figure size 1440x360 with 1 Axes>"
      ]
     },
     "metadata": {},
     "output_type": "display_data"
    }
   ],
   "source": [
    "fig = plt.figure(figsize=(20, 5))\n",
    "sns.set(style=\"whitegrid\")\n",
    "ax = sns.boxplot(x=\"weathersit\", y=\"cnt\", data=data)"
   ]
  },
  {
   "cell_type": "markdown",
   "metadata": {},
   "source": [
    "## Outlier Analysis"
   ]
  },
  {
   "cell_type": "code",
   "execution_count": 207,
   "metadata": {},
   "outputs": [
    {
     "data": {
      "image/png": "[encoded data removed]",
      "text/plain": [
       "<Figure size 432x288 with 1 Axes>"
      ]
     },
     "metadata": {},
     "output_type": "display_data"
    }
   ],
   "source": [
    "boxplot = data.boxplot(column=['casual','registered','cnt'])"
   ]
  },
  {
   "cell_type": "code",
   "execution_count": 208,
   "metadata": {},
   "outputs": [
    {
     "data": {
      "image/png": "[encoded data removed]",
      "text/plain": [
       "<Figure size 432x288 with 1 Axes>"
      ]
     },
     "metadata": {},
     "output_type": "display_data"
    }
   ],
   "source": [
    "boxplot = data.boxplot(column=['hum','windspeed'])"
   ]
  },
  {
   "cell_type": "code",
   "execution_count": 209,
   "metadata": {},
   "outputs": [
    {
     "data": {
      "image/png": "[encoded data removed]",
      "text/plain": [
       "<Figure size 432x288 with 1 Axes>"
      ]
     },
     "metadata": {},
     "output_type": "display_data"
    }
   ],
   "source": [
    "boxplot = data.boxplot(column=['temp', 'atemp','avtemp'])"
   ]
  },
  {
   "cell_type": "code",
   "execution_count": 210,
   "metadata": {},
   "outputs": [
    {
     "data": {
      "text/plain": [
       "Index(['instant', 'dteday', 'season', 'yr', 'mnth', 'holiday', 'weekday',\n",
       "       'workingday', 'weathersit', 'temp', 'atemp', 'avtemp', 'hum',\n",
       "       'windspeed', 'casual', 'registered', 'cnt'],\n",
       "      dtype='object')"
      ]
     },
     "execution_count": 210,
     "metadata": {},
     "output_type": "execute_result"
    }
   ],
   "source": [
    "data.columns"
   ]
  },
  {
   "cell_type": "markdown",
   "metadata": {},
   "source": [
    "#  CORRELATION"
   ]
  },
  {
   "cell_type": "code",
   "execution_count": 211,
   "metadata": {},
   "outputs": [
    {
     "data": {
      "image/png": "[encoded data removed]",
      "text/plain": [
       "<Figure size 1296x432 with 2 Axes>"
      ]
     },
     "metadata": {},
     "output_type": "display_data"
    }
   ],
   "source": [
    "con = ['temp', 'atemp','avtemp', 'hum', 'windspeed', 'casual', 'registered','cnt']\n",
    "\n",
    "df_con = data.loc[:,con]\n",
    "\n",
    "f, ax = plt.subplots(figsize=(18,6))\n",
    "corr = df_con.corr().abs()\n",
    "\n",
    "# Select upper triangle of correlation matrix\n",
    "lower = corr.where(np.tril(np.ones(corr.shape), k=0).astype(np.bool))\n",
    "\n",
    "sns.heatmap(lower,mask = np.zeros_like(corr, dtype = np.bool), cmap = sns.diverging_palette(220,10,as_cmap = True), square = True, annot=True, fmt=\".2f\", ax = ax)\n",
    "plt.show()"
   ]
  },
  {
   "cell_type": "markdown",
   "metadata": {},
   "source": [
    "# Feature Scaling"
   ]
  },
  {
   "cell_type": "markdown",
   "metadata": {},
   "source": [
    "### MinMax Scaling"
   ]
  },
  {
   "cell_type": "code",
   "execution_count": 212,
   "metadata": {},
   "outputs": [],
   "source": [
    "df = data\n",
    "df.avtemp = (df.avtemp-(df.avtemp.min()))/((df.avtemp.max())-(df.avtemp.min()))\n",
    "df.dteday = df.dteday.astype('object')\n",
    "#df.hum = (df.hum-(df.hum.min()))/((df.hum.max())-(df.hum.min()))\n",
    "#df.windspeed = (df.windspeed-(df.windspeed.min()))/((df.windspeed.max())-(df.windspeed.min()))"
   ]
  },
  {
   "cell_type": "markdown",
   "metadata": {},
   "source": [
    "# Model Building"
   ]
  },
  {
   "cell_type": "code",
   "execution_count": 213,
   "metadata": {},
   "outputs": [],
   "source": [
    "import statsmodels.api as sm\n",
    "from sklearn.cross_validation import train_test_split\n",
    "from sklearn.preprocessing import LabelEncoder, OneHotEncoder"
   ]
  },
  {
   "cell_type": "code",
   "execution_count": 214,
   "metadata": {},
   "outputs": [],
   "source": [
    "df = df[['dteday', 'season', 'yr','mnth', 'holiday', 'weekday','workingday', 'weathersit','avtemp', 'hum','windspeed','cnt']]"
   ]
  },
  {
   "cell_type": "code",
   "execution_count": 215,
   "metadata": {},
   "outputs": [
    {
     "name": "stdout",
     "output_type": "stream",
     "text": [
      "m_train  (511, 58)\n",
      "m_test  (220, 58)\n",
      "n_train  (511,)\n",
      "n_test  (220,)\n"
     ]
    },
    {
     "data": {
      "text/html": [
       "<table class=\"simpletable\">\n",
       "<caption>OLS Regression Results</caption>\n",
       "<tr>\n",
       "  <th>Dep. Variable:</th>           <td>cnt</td>       <th>  R-squared:         </th> <td>   0.850</td> \n",
       "</tr>\n",
       "<tr>\n",
       "  <th>Model:</th>                   <td>OLS</td>       <th>  Adj. R-squared:    </th> <td>   0.831</td> \n",
       "</tr>\n",
       "<tr>\n",
       "  <th>Method:</th>             <td>Least Squares</td>  <th>  F-statistic:       </th> <td>   45.05</td> \n",
       "</tr>\n",
       "<tr>\n",
       "  <th>Date:</th>             <td>Wed, 21 Nov 2018</td> <th>  Prob (F-statistic):</th> <td>1.42e-152</td>\n",
       "</tr>\n",
       "<tr>\n",
       "  <th>Time:</th>                 <td>02:29:20</td>     <th>  Log-Likelihood:    </th> <td> -4096.2</td> \n",
       "</tr>\n",
       "<tr>\n",
       "  <th>No. Observations:</th>      <td>   511</td>      <th>  AIC:               </th> <td>   8308.</td> \n",
       "</tr>\n",
       "<tr>\n",
       "  <th>Df Residuals:</th>          <td>   453</td>      <th>  BIC:               </th> <td>   8554.</td> \n",
       "</tr>\n",
       "<tr>\n",
       "  <th>Df Model:</th>              <td>    57</td>      <th>                     </th>     <td> </td>    \n",
       "</tr>\n",
       "<tr>\n",
       "  <th>Covariance Type:</th>      <td>nonrobust</td>    <th>                     </th>     <td> </td>    \n",
       "</tr>\n",
       "</table>\n",
       "<table class=\"simpletable\">\n",
       "<tr>\n",
       "           <td></td>              <th>coef</th>     <th>std err</th>      <th>t</th>      <th>P>|t|</th>  <th>[0.025</th>    <th>0.975]</th>  \n",
       "</tr>\n",
       "<tr>\n",
       "  <th>avtemp</th>              <td> 3839.2535</td> <td>  417.735</td> <td>    9.191</td> <td> 0.000</td> <td> 3018.314</td> <td> 4660.193</td>\n",
       "</tr>\n",
       "<tr>\n",
       "  <th>hum</th>                 <td>  -17.2159</td> <td>    3.889</td> <td>   -4.427</td> <td> 0.000</td> <td>  -24.858</td> <td>   -9.574</td>\n",
       "</tr>\n",
       "<tr>\n",
       "  <th>windspeed</th>           <td>  -49.9462</td> <td>    7.710</td> <td>   -6.478</td> <td> 0.000</td> <td>  -65.098</td> <td>  -34.795</td>\n",
       "</tr>\n",
       "<tr>\n",
       "  <th>dteday_2</th>            <td>  280.9040</td> <td>  277.907</td> <td>    1.011</td> <td> 0.313</td> <td> -265.244</td> <td>  827.052</td>\n",
       "</tr>\n",
       "<tr>\n",
       "  <th>dteday_3</th>            <td>  412.2808</td> <td>  277.297</td> <td>    1.487</td> <td> 0.138</td> <td> -132.667</td> <td>  957.229</td>\n",
       "</tr>\n",
       "<tr>\n",
       "  <th>dteday_4</th>            <td>  536.2154</td> <td>  291.850</td> <td>    1.837</td> <td> 0.067</td> <td>  -37.333</td> <td> 1109.764</td>\n",
       "</tr>\n",
       "<tr>\n",
       "  <th>dteday_5</th>            <td>  409.5157</td> <td>  275.331</td> <td>    1.487</td> <td> 0.138</td> <td> -131.570</td> <td>  950.601</td>\n",
       "</tr>\n",
       "<tr>\n",
       "  <th>dteday_6</th>            <td>  587.4792</td> <td>  264.393</td> <td>    2.222</td> <td> 0.027</td> <td>   67.891</td> <td> 1107.067</td>\n",
       "</tr>\n",
       "<tr>\n",
       "  <th>dteday_7</th>            <td>  500.8343</td> <td>  289.383</td> <td>    1.731</td> <td> 0.084</td> <td>  -67.866</td> <td> 1069.534</td>\n",
       "</tr>\n",
       "<tr>\n",
       "  <th>dteday_8</th>            <td>  239.5056</td> <td>  270.566</td> <td>    0.885</td> <td> 0.377</td> <td> -292.215</td> <td>  771.226</td>\n",
       "</tr>\n",
       "<tr>\n",
       "  <th>dteday_9</th>            <td>  509.5156</td> <td>  266.539</td> <td>    1.912</td> <td> 0.057</td> <td>  -14.291</td> <td> 1033.323</td>\n",
       "</tr>\n",
       "<tr>\n",
       "  <th>dteday_10</th>           <td>  333.3732</td> <td>  284.994</td> <td>    1.170</td> <td> 0.243</td> <td> -226.701</td> <td>  893.447</td>\n",
       "</tr>\n",
       "<tr>\n",
       "  <th>dteday_11</th>           <td>  588.1354</td> <td>  271.099</td> <td>    2.169</td> <td> 0.031</td> <td>   55.368</td> <td> 1120.903</td>\n",
       "</tr>\n",
       "<tr>\n",
       "  <th>dteday_12</th>           <td>  480.9986</td> <td>  264.278</td> <td>    1.820</td> <td> 0.069</td> <td>  -38.364</td> <td> 1000.361</td>\n",
       "</tr>\n",
       "<tr>\n",
       "  <th>dteday_13</th>           <td>  559.1218</td> <td>  289.657</td> <td>    1.930</td> <td> 0.054</td> <td>  -10.117</td> <td> 1128.360</td>\n",
       "</tr>\n",
       "<tr>\n",
       "  <th>dteday_14</th>           <td>  518.9972</td> <td>  267.690</td> <td>    1.939</td> <td> 0.053</td> <td>   -7.071</td> <td> 1045.066</td>\n",
       "</tr>\n",
       "<tr>\n",
       "  <th>dteday_15</th>           <td>  438.1622</td> <td>  279.668</td> <td>    1.567</td> <td> 0.118</td> <td> -111.446</td> <td>  987.771</td>\n",
       "</tr>\n",
       "<tr>\n",
       "  <th>dteday_16</th>           <td>  419.9288</td> <td>  268.982</td> <td>    1.561</td> <td> 0.119</td> <td> -108.679</td> <td>  948.537</td>\n",
       "</tr>\n",
       "<tr>\n",
       "  <th>dteday_17</th>           <td>  830.0566</td> <td>  261.280</td> <td>    3.177</td> <td> 0.002</td> <td>  316.585</td> <td> 1343.528</td>\n",
       "</tr>\n",
       "<tr>\n",
       "  <th>dteday_18</th>           <td>  331.9895</td> <td>  283.595</td> <td>    1.171</td> <td> 0.242</td> <td> -225.335</td> <td>  889.315</td>\n",
       "</tr>\n",
       "<tr>\n",
       "  <th>dteday_19</th>           <td>  372.6323</td> <td>  289.523</td> <td>    1.287</td> <td> 0.199</td> <td> -196.343</td> <td>  941.607</td>\n",
       "</tr>\n",
       "<tr>\n",
       "  <th>dteday_20</th>           <td>  531.1501</td> <td>  282.233</td> <td>    1.882</td> <td> 0.060</td> <td>  -23.498</td> <td> 1085.799</td>\n",
       "</tr>\n",
       "<tr>\n",
       "  <th>dteday_21</th>           <td>  369.7247</td> <td>  280.436</td> <td>    1.318</td> <td> 0.188</td> <td> -181.393</td> <td>  920.842</td>\n",
       "</tr>\n",
       "<tr>\n",
       "  <th>dteday_22</th>           <td>  226.8669</td> <td>  277.745</td> <td>    0.817</td> <td> 0.414</td> <td> -318.962</td> <td>  772.696</td>\n",
       "</tr>\n",
       "<tr>\n",
       "  <th>dteday_23</th>           <td>  153.9125</td> <td>  263.942</td> <td>    0.583</td> <td> 0.560</td> <td> -364.791</td> <td>  672.616</td>\n",
       "</tr>\n",
       "<tr>\n",
       "  <th>dteday_24</th>           <td> -101.7312</td> <td>  284.331</td> <td>   -0.358</td> <td> 0.721</td> <td> -660.503</td> <td>  457.041</td>\n",
       "</tr>\n",
       "<tr>\n",
       "  <th>dteday_25</th>           <td>   28.6978</td> <td>  296.274</td> <td>    0.097</td> <td> 0.923</td> <td> -553.545</td> <td>  610.940</td>\n",
       "</tr>\n",
       "<tr>\n",
       "  <th>dteday_26</th>           <td>  418.4833</td> <td>  266.259</td> <td>    1.572</td> <td> 0.117</td> <td> -104.773</td> <td>  941.740</td>\n",
       "</tr>\n",
       "<tr>\n",
       "  <th>dteday_27</th>           <td>  297.1961</td> <td>  279.358</td> <td>    1.064</td> <td> 0.288</td> <td> -251.802</td> <td>  846.194</td>\n",
       "</tr>\n",
       "<tr>\n",
       "  <th>dteday_28</th>           <td>  210.8970</td> <td>  284.160</td> <td>    0.742</td> <td> 0.458</td> <td> -347.538</td> <td>  769.332</td>\n",
       "</tr>\n",
       "<tr>\n",
       "  <th>dteday_29</th>           <td>  -27.8968</td> <td>  287.304</td> <td>   -0.097</td> <td> 0.923</td> <td> -592.512</td> <td>  536.718</td>\n",
       "</tr>\n",
       "<tr>\n",
       "  <th>dteday_30</th>           <td>   44.6375</td> <td>  284.901</td> <td>    0.157</td> <td> 0.876</td> <td> -515.254</td> <td>  604.528</td>\n",
       "</tr>\n",
       "<tr>\n",
       "  <th>dteday_31</th>           <td>  693.8470</td> <td>  322.273</td> <td>    2.153</td> <td> 0.032</td> <td>   60.512</td> <td> 1327.182</td>\n",
       "</tr>\n",
       "<tr>\n",
       "  <th>season_Spring</th>       <td>-1102.8355</td> <td>  265.986</td> <td>   -4.146</td> <td> 0.000</td> <td>-1625.555</td> <td> -580.116</td>\n",
       "</tr>\n",
       "<tr>\n",
       "  <th>season_Summer</th>       <td> -202.3008</td> <td>  217.933</td> <td>   -0.928</td> <td> 0.354</td> <td> -630.586</td> <td>  225.984</td>\n",
       "</tr>\n",
       "<tr>\n",
       "  <th>season_Winter</th>       <td>  470.3750</td> <td>  259.077</td> <td>    1.816</td> <td> 0.070</td> <td>  -38.766</td> <td>  979.516</td>\n",
       "</tr>\n",
       "<tr>\n",
       "  <th>yr_2012</th>             <td> 1925.0260</td> <td>   72.448</td> <td>   26.571</td> <td> 0.000</td> <td> 1782.650</td> <td> 2067.402</td>\n",
       "</tr>\n",
       "<tr>\n",
       "  <th>mnth_August</th>         <td> -227.3648</td> <td>  288.810</td> <td>   -0.787</td> <td> 0.432</td> <td> -794.938</td> <td>  340.209</td>\n",
       "</tr>\n",
       "<tr>\n",
       "  <th>mnth_December</th>       <td> -442.9947</td> <td>  302.221</td> <td>   -1.466</td> <td> 0.143</td> <td>-1036.924</td> <td>  150.934</td>\n",
       "</tr>\n",
       "<tr>\n",
       "  <th>mnth_February</th>       <td> -198.2276</td> <td>  285.033</td> <td>   -0.695</td> <td> 0.487</td> <td> -758.379</td> <td>  361.923</td>\n",
       "</tr>\n",
       "<tr>\n",
       "  <th>mnth_January</th>        <td> -334.0607</td> <td>  295.768</td> <td>   -1.129</td> <td> 0.259</td> <td> -915.308</td> <td>  247.187</td>\n",
       "</tr>\n",
       "<tr>\n",
       "  <th>mnth_July</th>           <td> -696.1617</td> <td>  301.342</td> <td>   -2.310</td> <td> 0.021</td> <td>-1288.364</td> <td> -103.959</td>\n",
       "</tr>\n",
       "<tr>\n",
       "  <th>mnth_June</th>           <td> -156.4763</td> <td>  216.745</td> <td>   -0.722</td> <td> 0.471</td> <td> -582.427</td> <td>  269.475</td>\n",
       "</tr>\n",
       "<tr>\n",
       "  <th>mnth_March</th>          <td>  209.4552</td> <td>  220.260</td> <td>    0.951</td> <td> 0.342</td> <td> -223.404</td> <td>  642.314</td>\n",
       "</tr>\n",
       "<tr>\n",
       "  <th>mnth_May</th>            <td>  295.1908</td> <td>  179.468</td> <td>    1.645</td> <td> 0.101</td> <td>  -57.502</td> <td>  647.884</td>\n",
       "</tr>\n",
       "<tr>\n",
       "  <th>mnth_November</th>       <td> -551.3856</td> <td>  328.411</td> <td>   -1.679</td> <td> 0.094</td> <td>-1196.783</td> <td>   94.012</td>\n",
       "</tr>\n",
       "<tr>\n",
       "  <th>mnth_October</th>        <td>  180.3443</td> <td>  319.953</td> <td>    0.564</td> <td> 0.573</td> <td> -448.432</td> <td>  809.121</td>\n",
       "</tr>\n",
       "<tr>\n",
       "  <th>mnth_September</th>      <td>  395.8406</td> <td>  274.623</td> <td>    1.441</td> <td> 0.150</td> <td> -143.852</td> <td>  935.533</td>\n",
       "</tr>\n",
       "<tr>\n",
       "  <th>holiday_holiday</th>     <td> 1248.7376</td> <td>  628.445</td> <td>    1.987</td> <td> 0.048</td> <td>   13.709</td> <td> 2483.766</td>\n",
       "</tr>\n",
       "<tr>\n",
       "  <th>weekday_Monday</th>      <td> -257.5112</td> <td>  136.005</td> <td>   -1.893</td> <td> 0.059</td> <td> -524.791</td> <td>    9.768</td>\n",
       "</tr>\n",
       "<tr>\n",
       "  <th>weekday_Saturday</th>    <td> 1600.1915</td> <td>  585.246</td> <td>    2.734</td> <td> 0.006</td> <td>  450.058</td> <td> 2750.325</td>\n",
       "</tr>\n",
       "<tr>\n",
       "  <th>weekday_Sunday</th>      <td> 1302.5640</td> <td>  584.401</td> <td>    2.229</td> <td> 0.026</td> <td>  154.091</td> <td> 2451.037</td>\n",
       "</tr>\n",
       "<tr>\n",
       "  <th>weekday_Thursday</th>    <td>   -1.6521</td> <td>  134.571</td> <td>   -0.012</td> <td> 0.990</td> <td> -266.113</td> <td>  262.809</td>\n",
       "</tr>\n",
       "<tr>\n",
       "  <th>weekday_Tuesday</th>     <td> -116.7159</td> <td>  130.236</td> <td>   -0.896</td> <td> 0.371</td> <td> -372.658</td> <td>  139.226</td>\n",
       "</tr>\n",
       "<tr>\n",
       "  <th>weekday_Wednesday</th>   <td>  -79.7201</td> <td>  133.262</td> <td>   -0.598</td> <td> 0.550</td> <td> -341.608</td> <td>  182.168</td>\n",
       "</tr>\n",
       "<tr>\n",
       "  <th>workingday_working</th>  <td> 1606.4088</td> <td>  581.834</td> <td>    2.761</td> <td> 0.006</td> <td>  462.980</td> <td> 2749.838</td>\n",
       "</tr>\n",
       "<tr>\n",
       "  <th>weathersit_Moderate</th> <td> 1500.9557</td> <td>  252.070</td> <td>    5.955</td> <td> 0.000</td> <td> 1005.584</td> <td> 1996.328</td>\n",
       "</tr>\n",
       "<tr>\n",
       "  <th>weathersit_Pleasant</th> <td> 1846.4774</td> <td>  270.899</td> <td>    6.816</td> <td> 0.000</td> <td> 1314.102</td> <td> 2378.853</td>\n",
       "</tr>\n",
       "</table>\n",
       "<table class=\"simpletable\">\n",
       "<tr>\n",
       "  <th>Omnibus:</th>       <td>59.623</td> <th>  Durbin-Watson:     </th> <td>   1.899</td>\n",
       "</tr>\n",
       "<tr>\n",
       "  <th>Prob(Omnibus):</th> <td> 0.000</td> <th>  Jarque-Bera (JB):  </th> <td> 145.532</td>\n",
       "</tr>\n",
       "<tr>\n",
       "  <th>Skew:</th>          <td>-0.608</td> <th>  Prob(JB):          </th> <td>2.50e-32</td>\n",
       "</tr>\n",
       "<tr>\n",
       "  <th>Kurtosis:</th>      <td> 5.314</td> <th>  Cond. No.          </th> <td>2.55e+03</td>\n",
       "</tr>\n",
       "</table><br/><br/>Warnings:<br/>[1] Standard Errors assume that the covariance matrix of the errors is correctly specified.<br/>[2] The condition number is large, 2.55e+03. This might indicate that there are<br/>strong multicollinearity or other numerical problems."
      ],
      "text/plain": [
       "<class 'statsmodels.iolib.summary.Summary'>\n",
       "\"\"\"\n",
       "                            OLS Regression Results                            \n",
       "==============================================================================\n",
       "Dep. Variable:                    cnt   R-squared:                       0.850\n",
       "Model:                            OLS   Adj. R-squared:                  0.831\n",
       "Method:                 Least Squares   F-statistic:                     45.05\n",
       "Date:                Wed, 21 Nov 2018   Prob (F-statistic):          1.42e-152\n",
       "Time:                        02:29:20   Log-Likelihood:                -4096.2\n",
       "No. Observations:                 511   AIC:                             8308.\n",
       "Df Residuals:                     453   BIC:                             8554.\n",
       "Df Model:                          57                                         \n",
       "Covariance Type:            nonrobust                                         \n",
       "=======================================================================================\n",
       "                          coef    std err          t      P>|t|      [0.025      0.975]\n",
       "---------------------------------------------------------------------------------------\n",
       "avtemp               3839.2535    417.735      9.191      0.000    3018.314    4660.193\n",
       "hum                   -17.2159      3.889     -4.427      0.000     -24.858      -9.574\n",
       "windspeed             -49.9462      7.710     -6.478      0.000     -65.098     -34.795\n",
       "dteday_2              280.9040    277.907      1.011      0.313    -265.244     827.052\n",
       "dteday_3              412.2808    277.297      1.487      0.138    -132.667     957.229\n",
       "dteday_4              536.2154    291.850      1.837      0.067     -37.333    1109.764\n",
       "dteday_5              409.5157    275.331      1.487      0.138    -131.570     950.601\n",
       "dteday_6              587.4792    264.393      2.222      0.027      67.891    1107.067\n",
       "dteday_7              500.8343    289.383      1.731      0.084     -67.866    1069.534\n",
       "dteday_8              239.5056    270.566      0.885      0.377    -292.215     771.226\n",
       "dteday_9              509.5156    266.539      1.912      0.057     -14.291    1033.323\n",
       "dteday_10             333.3732    284.994      1.170      0.243    -226.701     893.447\n",
       "dteday_11             588.1354    271.099      2.169      0.031      55.368    1120.903\n",
       "dteday_12             480.9986    264.278      1.820      0.069     -38.364    1000.361\n",
       "dteday_13             559.1218    289.657      1.930      0.054     -10.117    1128.360\n",
       "dteday_14             518.9972    267.690      1.939      0.053      -7.071    1045.066\n",
       "dteday_15             438.1622    279.668      1.567      0.118    -111.446     987.771\n",
       "dteday_16             419.9288    268.982      1.561      0.119    -108.679     948.537\n",
       "dteday_17             830.0566    261.280      3.177      0.002     316.585    1343.528\n",
       "dteday_18             331.9895    283.595      1.171      0.242    -225.335     889.315\n",
       "dteday_19             372.6323    289.523      1.287      0.199    -196.343     941.607\n",
       "dteday_20             531.1501    282.233      1.882      0.060     -23.498    1085.799\n",
       "dteday_21             369.7247    280.436      1.318      0.188    -181.393     920.842\n",
       "dteday_22             226.8669    277.745      0.817      0.414    -318.962     772.696\n",
       "dteday_23             153.9125    263.942      0.583      0.560    -364.791     672.616\n",
       "dteday_24            -101.7312    284.331     -0.358      0.721    -660.503     457.041\n",
       "dteday_25              28.6978    296.274      0.097      0.923    -553.545     610.940\n",
       "dteday_26             418.4833    266.259      1.572      0.117    -104.773     941.740\n",
       "dteday_27             297.1961    279.358      1.064      0.288    -251.802     846.194\n",
       "dteday_28             210.8970    284.160      0.742      0.458    -347.538     769.332\n",
       "dteday_29             -27.8968    287.304     -0.097      0.923    -592.512     536.718\n",
       "dteday_30              44.6375    284.901      0.157      0.876    -515.254     604.528\n",
       "dteday_31             693.8470    322.273      2.153      0.032      60.512    1327.182\n",
       "season_Spring       -1102.8355    265.986     -4.146      0.000   -1625.555    -580.116\n",
       "season_Summer        -202.3008    217.933     -0.928      0.354    -630.586     225.984\n",
       "season_Winter         470.3750    259.077      1.816      0.070     -38.766     979.516\n",
       "yr_2012              1925.0260     72.448     26.571      0.000    1782.650    2067.402\n",
       "mnth_August          -227.3648    288.810     -0.787      0.432    -794.938     340.209\n",
       "mnth_December        -442.9947    302.221     -1.466      0.143   -1036.924     150.934\n",
       "mnth_February        -198.2276    285.033     -0.695      0.487    -758.379     361.923\n",
       "mnth_January         -334.0607    295.768     -1.129      0.259    -915.308     247.187\n",
       "mnth_July            -696.1617    301.342     -2.310      0.021   -1288.364    -103.959\n",
       "mnth_June            -156.4763    216.745     -0.722      0.471    -582.427     269.475\n",
       "mnth_March            209.4552    220.260      0.951      0.342    -223.404     642.314\n",
       "mnth_May              295.1908    179.468      1.645      0.101     -57.502     647.884\n",
       "mnth_November        -551.3856    328.411     -1.679      0.094   -1196.783      94.012\n",
       "mnth_October          180.3443    319.953      0.564      0.573    -448.432     809.121\n",
       "mnth_September        395.8406    274.623      1.441      0.150    -143.852     935.533\n",
       "holiday_holiday      1248.7376    628.445      1.987      0.048      13.709    2483.766\n",
       "weekday_Monday       -257.5112    136.005     -1.893      0.059    -524.791       9.768\n",
       "weekday_Saturday     1600.1915    585.246      2.734      0.006     450.058    2750.325\n",
       "weekday_Sunday       1302.5640    584.401      2.229      0.026     154.091    2451.037\n",
       "weekday_Thursday       -1.6521    134.571     -0.012      0.990    -266.113     262.809\n",
       "weekday_Tuesday      -116.7159    130.236     -0.896      0.371    -372.658     139.226\n",
       "weekday_Wednesday     -79.7201    133.262     -0.598      0.550    -341.608     182.168\n",
       "workingday_working   1606.4088    581.834      2.761      0.006     462.980    2749.838\n",
       "weathersit_Moderate  1500.9557    252.070      5.955      0.000    1005.584    1996.328\n",
       "weathersit_Pleasant  1846.4774    270.899      6.816      0.000    1314.102    2378.853\n",
       "==============================================================================\n",
       "Omnibus:                       59.623   Durbin-Watson:                   1.899\n",
       "Prob(Omnibus):                  0.000   Jarque-Bera (JB):              145.532\n",
       "Skew:                          -0.608   Prob(JB):                     2.50e-32\n",
       "Kurtosis:                       5.314   Cond. No.                     2.55e+03\n",
       "==============================================================================\n",
       "\n",
       "Warnings:\n",
       "[1] Standard Errors assume that the covariance matrix of the errors is correctly specified.\n",
       "[2] The condition number is large, 2.55e+03. This might indicate that there are\n",
       "strong multicollinearity or other numerical problems.\n",
       "\"\"\""
      ]
     },
     "execution_count": 215,
     "metadata": {},
     "output_type": "execute_result"
    }
   ],
   "source": [
    "dfo = df\n",
    "dfo_target = data['cnt']\n",
    "\n",
    "# drop target variable from dataset\n",
    "dfo = data.drop(['cnt'], axis=1)\n",
    "\n",
    "\n",
    "\n",
    "# save all categorical columns in list\n",
    "categorical_columns = [col for col in df.columns.values if df[col].dtype == 'object']\n",
    "# dataframe with categorical features\n",
    "dfo_cat = df[categorical_columns]\n",
    "# dataframe with numerical features\n",
    "dfo_num = df.drop(categorical_columns, axis=1)\n",
    "dfo_num = dfo_num.drop('cnt', axis = 1)\n",
    "# Using pandas.get_dummies function to Convert categorical variable into dummy/indicator variables\n",
    "dfo_cat_dummies = pd.get_dummies(dfo_cat,drop_first=True)\n",
    "\n",
    "# using concat function we merging two dataframe for furthere analysis\n",
    "newdata = pd.concat([dfo_num, dfo_cat_dummies], axis=1)\n",
    "\n",
    "#Let us now split the dataset into train & test\n",
    "from sklearn.cross_validation import train_test_split\n",
    "m_train,m_test, n_train, n_test = train_test_split(newdata, dfo_target, test_size = 0.30, random_state=0)\n",
    "print(\"m_train \",m_train.shape)\n",
    "print(\"m_test \",m_test.shape)\n",
    "print(\"n_train \",n_train.shape)\n",
    "print(\"n_test \",n_test.shape)\n",
    "\n",
    "#******************BASE MODEL******************\n",
    "# Lets build Linear Regression model using statsmodel\n",
    "import statsmodels.api as sm\n",
    "# Building Linear Regression model using OLS\n",
    "model1 = sm.OLS(n_train, m_train).fit()\n",
    "# Note the Swap of X and Y\n",
    "# Printing Linear Regression Summary\n",
    "\n",
    "model1.summary()"
   ]
  },
  {
   "cell_type": "code",
   "execution_count": 216,
   "metadata": {},
   "outputs": [
    {
     "data": {
      "text/html": [
       "<div>\n",
       "<style scoped>\n",
       "    .dataframe tbody tr th:only-of-type {\n",
       "        vertical-align: middle;\n",
       "    }\n",
       "\n",
       "    .dataframe tbody tr th {\n",
       "        vertical-align: top;\n",
       "    }\n",
       "\n",
       "    .dataframe thead th {\n",
       "        text-align: right;\n",
       "    }\n",
       "</style>\n",
       "<table border=\"1\" class=\"dataframe\">\n",
       "  <thead>\n",
       "    <tr style=\"text-align: right;\">\n",
       "      <th></th>\n",
       "      <th>Model</th>\n",
       "      <th>R-Squared Value</th>\n",
       "      <th>Adj.R-Squared Value</th>\n",
       "      <th>RMSE</th>\n",
       "    </tr>\n",
       "  </thead>\n",
       "  <tbody>\n",
       "    <tr>\n",
       "      <th>0</th>\n",
       "      <td>Base Linear Regression Model</td>\n",
       "      <td>0.850045</td>\n",
       "      <td>0.831177</td>\n",
       "      <td>788.533184</td>\n",
       "    </tr>\n",
       "  </tbody>\n",
       "</table>\n",
       "</div>"
      ],
      "text/plain": [
       "                           Model  R-Squared Value  Adj.R-Squared Value  \\\n",
       "0   Base Linear Regression Model         0.850045             0.831177   \n",
       "\n",
       "         RMSE  \n",
       "0  788.533184  "
      ]
     },
     "execution_count": 216,
     "metadata": {},
     "output_type": "execute_result"
    }
   ],
   "source": [
    "def rmse(predictions, targets):\n",
    "    differences = predictions - targets # the DIFFERENCEs.\n",
    "    differences_squared = differences ** 2 # the SQUAREs of ^\n",
    "    mean_of_differences_squared = differences_squared.mean() # the MEAN of ^\n",
    "    rmse_val = np.sqrt(mean_of_differences_squared) # ROOT of ^\n",
    "    return rmse_val\n",
    "\n",
    "cols = ['Model', 'R-Squared Value', 'Adj.R-Squared Value', 'RMSE']\n",
    "models_report = pd.DataFrame(columns = cols)\n",
    "# Predicting the model on test data\n",
    "predictions1 = model1.predict(m_test)\n",
    "\n",
    "\n",
    "tmp1 = pd.Series({'Model': \" Base Linear Regression Model\",\n",
    "'R-Squared Value' : model1.rsquared,\n",
    "'Adj.R-Squared Value': model1.rsquared_adj,\n",
    "'RMSE': rmse(predictions1, n_test)})\n",
    "model1_report = models_report.append(tmp1, ignore_index = True)\n",
    "model1_report"
   ]
  },
  {
   "cell_type": "code",
   "execution_count": 217,
   "metadata": {},
   "outputs": [
    {
     "data": {
      "text/html": [
       "<table class=\"simpletable\">\n",
       "<tr>\n",
       "        <td>Model:</td>               <td>OLS</td>         <td>Adj. R-squared:</td>      <td>0.831</td>  \n",
       "</tr>\n",
       "<tr>\n",
       "  <td>Dependent Variable:</td>        <td>cnt</td>              <td>AIC:</td>          <td>8308.4925</td>\n",
       "</tr>\n",
       "<tr>\n",
       "         <td>Date:</td>        <td>2018-11-21 02:56</td>        <td>BIC:</td>          <td>8554.2019</td>\n",
       "</tr>\n",
       "<tr>\n",
       "   <td>No. Observations:</td>         <td>511</td>         <td>Log-Likelihood:</td>     <td>-4096.2</td> \n",
       "</tr>\n",
       "<tr>\n",
       "       <td>Df Model:</td>             <td>57</td>           <td>F-statistic:</td>        <td>45.05</td>  \n",
       "</tr>\n",
       "<tr>\n",
       "     <td>Df Residuals:</td>           <td>453</td>       <td>Prob (F-statistic):</td>  <td>1.42e-152</td>\n",
       "</tr>\n",
       "<tr>\n",
       "      <td>R-squared:</td>            <td>0.850</td>            <td>Scale:</td>        <td>6.0615e+05</td>\n",
       "</tr>\n",
       "</table>\n",
       "<table class=\"simpletable\">\n",
       "<tr>\n",
       "           <td></td>              <th>Coef.</th>   <th>Std.Err.</th>    <th>t</th>     <th>P>|t|</th>   <th>[0.025</th>    <th>0.975]</th>  \n",
       "</tr>\n",
       "<tr>\n",
       "  <th>const</th>                <td>1151.5804</td> <td>466.7238</td> <td>2.4674</td>  <td>0.0140</td>  <td>234.3680</td>  <td>2068.7928</td>\n",
       "</tr>\n",
       "<tr>\n",
       "  <th>avtemp</th>               <td>3839.2535</td> <td>417.7354</td> <td>9.1906</td>  <td>0.0000</td>  <td>3018.3139</td> <td>4660.1932</td>\n",
       "</tr>\n",
       "<tr>\n",
       "  <th>hum</th>                  <td>-17.2159</td>   <td>3.8886</td>  <td>-4.4272</td> <td>0.0000</td>  <td>-24.8579</td>   <td>-9.5739</td> \n",
       "</tr>\n",
       "<tr>\n",
       "  <th>windspeed</th>            <td>-49.9462</td>   <td>7.7098</td>  <td>-6.4783</td> <td>0.0000</td>  <td>-65.0977</td>  <td>-34.7948</td> \n",
       "</tr>\n",
       "<tr>\n",
       "  <th>dteday_2</th>             <td>280.9040</td>  <td>277.9075</td> <td>1.0108</td>  <td>0.3127</td>  <td>-265.2438</td> <td>827.0519</td> \n",
       "</tr>\n",
       "<tr>\n",
       "  <th>dteday_3</th>             <td>412.2808</td>  <td>277.2970</td> <td>1.4868</td>  <td>0.1378</td>  <td>-132.6674</td> <td>957.2289</td> \n",
       "</tr>\n",
       "<tr>\n",
       "  <th>dteday_4</th>             <td>536.2154</td>  <td>291.8504</td> <td>1.8373</td>  <td>0.0668</td>  <td>-37.3333</td>  <td>1109.7642</td>\n",
       "</tr>\n",
       "<tr>\n",
       "  <th>dteday_5</th>             <td>409.5157</td>  <td>275.3315</td> <td>1.4874</td>  <td>0.1376</td>  <td>-131.5698</td> <td>950.6012</td> \n",
       "</tr>\n",
       "<tr>\n",
       "  <th>dteday_6</th>             <td>587.4792</td>  <td>264.3926</td> <td>2.2220</td>  <td>0.0268</td>   <td>67.8911</td>  <td>1107.0674</td>\n",
       "</tr>\n",
       "<tr>\n",
       "  <th>dteday_7</th>             <td>500.8343</td>  <td>289.3831</td> <td>1.7307</td>  <td>0.0842</td>  <td>-67.8656</td>  <td>1069.5342</td>\n",
       "</tr>\n",
       "<tr>\n",
       "  <th>dteday_8</th>             <td>239.5056</td>  <td>270.5660</td> <td>0.8852</td>  <td>0.3765</td>  <td>-292.2148</td> <td>771.2259</td> \n",
       "</tr>\n",
       "<tr>\n",
       "  <th>dteday_9</th>             <td>509.5156</td>  <td>266.5393</td> <td>1.9116</td>  <td>0.0566</td>  <td>-14.2912</td>  <td>1033.3225</td>\n",
       "</tr>\n",
       "<tr>\n",
       "  <th>dteday_10</th>            <td>333.3732</td>  <td>284.9937</td> <td>1.1698</td>  <td>0.2427</td>  <td>-226.7006</td> <td>893.4470</td> \n",
       "</tr>\n",
       "<tr>\n",
       "  <th>dteday_11</th>            <td>588.1354</td>  <td>271.0988</td> <td>2.1695</td>  <td>0.0306</td>   <td>55.3681</td>  <td>1120.9026</td>\n",
       "</tr>\n",
       "<tr>\n",
       "  <th>dteday_12</th>            <td>480.9986</td>  <td>264.2778</td> <td>1.8200</td>  <td>0.0694</td>  <td>-38.3641</td>  <td>1000.3613</td>\n",
       "</tr>\n",
       "<tr>\n",
       "  <th>dteday_13</th>            <td>559.1218</td>  <td>289.6573</td> <td>1.9303</td>  <td>0.0542</td>  <td>-10.1169</td>  <td>1128.3604</td>\n",
       "</tr>\n",
       "<tr>\n",
       "  <th>dteday_14</th>            <td>518.9972</td>  <td>267.6901</td> <td>1.9388</td>  <td>0.0531</td>   <td>-7.0712</td>  <td>1045.0656</td>\n",
       "</tr>\n",
       "<tr>\n",
       "  <th>dteday_15</th>            <td>438.1622</td>  <td>279.6684</td> <td>1.5667</td>  <td>0.1179</td>  <td>-111.4462</td> <td>987.7706</td> \n",
       "</tr>\n",
       "<tr>\n",
       "  <th>dteday_16</th>            <td>419.9288</td>  <td>268.9825</td> <td>1.5612</td>  <td>0.1192</td>  <td>-108.6795</td> <td>948.5370</td> \n",
       "</tr>\n",
       "<tr>\n",
       "  <th>dteday_17</th>            <td>830.0566</td>  <td>261.2802</td> <td>3.1769</td>  <td>0.0016</td>  <td>316.5850</td>  <td>1343.5282</td>\n",
       "</tr>\n",
       "<tr>\n",
       "  <th>dteday_18</th>            <td>331.9895</td>  <td>283.5950</td> <td>1.1706</td>  <td>0.2424</td>  <td>-225.3355</td> <td>889.3145</td> \n",
       "</tr>\n",
       "<tr>\n",
       "  <th>dteday_19</th>            <td>372.6323</td>  <td>289.5230</td> <td>1.2871</td>  <td>0.1987</td>  <td>-196.3426</td> <td>941.6071</td> \n",
       "</tr>\n",
       "<tr>\n",
       "  <th>dteday_20</th>            <td>531.1501</td>  <td>282.2331</td> <td>1.8820</td>  <td>0.0605</td>  <td>-23.4985</td>  <td>1085.7986</td>\n",
       "</tr>\n",
       "<tr>\n",
       "  <th>dteday_21</th>            <td>369.7247</td>  <td>280.4364</td> <td>1.3184</td>  <td>0.1880</td>  <td>-181.3929</td> <td>920.8424</td> \n",
       "</tr>\n",
       "<tr>\n",
       "  <th>dteday_22</th>            <td>226.8669</td>  <td>277.7453</td> <td>0.8168</td>  <td>0.4145</td>  <td>-318.9623</td> <td>772.6960</td> \n",
       "</tr>\n",
       "<tr>\n",
       "  <th>dteday_23</th>            <td>153.9125</td>  <td>263.9423</td> <td>0.5831</td>  <td>0.5601</td>  <td>-364.7908</td> <td>672.6159</td> \n",
       "</tr>\n",
       "<tr>\n",
       "  <th>dteday_24</th>            <td>-101.7312</td> <td>284.3314</td> <td>-0.3578</td> <td>0.7207</td>  <td>-660.5034</td> <td>457.0411</td> \n",
       "</tr>\n",
       "<tr>\n",
       "  <th>dteday_25</th>             <td>28.6978</td>  <td>296.2742</td> <td>0.0969</td>  <td>0.9229</td>  <td>-553.5446</td> <td>610.9402</td> \n",
       "</tr>\n",
       "<tr>\n",
       "  <th>dteday_26</th>            <td>418.4833</td>  <td>266.2591</td> <td>1.5717</td>  <td>0.1167</td>  <td>-104.7730</td> <td>941.7396</td> \n",
       "</tr>\n",
       "<tr>\n",
       "  <th>dteday_27</th>            <td>297.1961</td>  <td>279.3576</td> <td>1.0639</td>  <td>0.2880</td>  <td>-251.8015</td> <td>846.1938</td> \n",
       "</tr>\n",
       "<tr>\n",
       "  <th>dteday_28</th>            <td>210.8970</td>  <td>284.1597</td> <td>0.7422</td>  <td>0.4584</td>  <td>-347.5376</td> <td>769.3317</td> \n",
       "</tr>\n",
       "<tr>\n",
       "  <th>dteday_29</th>            <td>-27.8968</td>  <td>287.3044</td> <td>-0.0971</td> <td>0.9227</td>  <td>-592.5115</td> <td>536.7180</td> \n",
       "</tr>\n",
       "<tr>\n",
       "  <th>dteday_30</th>             <td>44.6375</td>  <td>284.9007</td> <td>0.1567</td>  <td>0.8756</td>  <td>-515.2535</td> <td>604.5285</td> \n",
       "</tr>\n",
       "<tr>\n",
       "  <th>dteday_31</th>            <td>693.8470</td>  <td>322.2726</td> <td>2.1530</td>  <td>0.0318</td>   <td>60.5122</td>  <td>1327.1818</td>\n",
       "</tr>\n",
       "<tr>\n",
       "  <th>season_Spring</th>       <td>-1102.8355</td> <td>265.9861</td> <td>-4.1462</td> <td>0.0000</td> <td>-1625.5552</td> <td>-580.1157</td>\n",
       "</tr>\n",
       "<tr>\n",
       "  <th>season_Summer</th>        <td>-202.3008</td> <td>217.9330</td> <td>-0.9283</td> <td>0.3538</td>  <td>-630.5860</td> <td>225.9843</td> \n",
       "</tr>\n",
       "<tr>\n",
       "  <th>season_Winter</th>        <td>470.3750</td>  <td>259.0767</td> <td>1.8156</td>  <td>0.0701</td>  <td>-38.7664</td>  <td>979.5164</td> \n",
       "</tr>\n",
       "<tr>\n",
       "  <th>yr_2012</th>              <td>1925.0260</td>  <td>72.4479</td> <td>26.5712</td> <td>0.0000</td>  <td>1782.6503</td> <td>2067.4017</td>\n",
       "</tr>\n",
       "<tr>\n",
       "  <th>mnth_August</th>          <td>-227.3648</td> <td>288.8099</td> <td>-0.7872</td> <td>0.4315</td>  <td>-794.9383</td> <td>340.2087</td> \n",
       "</tr>\n",
       "<tr>\n",
       "  <th>mnth_December</th>        <td>-442.9947</td> <td>302.2209</td> <td>-1.4658</td> <td>0.1434</td> <td>-1036.9237</td> <td>150.9342</td> \n",
       "</tr>\n",
       "<tr>\n",
       "  <th>mnth_February</th>        <td>-198.2276</td> <td>285.0331</td> <td>-0.6955</td> <td>0.4871</td>  <td>-758.3787</td> <td>361.9235</td> \n",
       "</tr>\n",
       "<tr>\n",
       "  <th>mnth_January</th>         <td>-334.0607</td> <td>295.7680</td> <td>-1.1295</td> <td>0.2593</td>  <td>-915.3082</td> <td>247.1868</td> \n",
       "</tr>\n",
       "<tr>\n",
       "  <th>mnth_July</th>            <td>-696.1617</td> <td>301.3424</td> <td>-2.3102</td> <td>0.0213</td> <td>-1288.3643</td> <td>-103.9592</td>\n",
       "</tr>\n",
       "<tr>\n",
       "  <th>mnth_June</th>            <td>-156.4763</td> <td>216.7452</td> <td>-0.7219</td> <td>0.4707</td>  <td>-582.4271</td> <td>269.4746</td> \n",
       "</tr>\n",
       "<tr>\n",
       "  <th>mnth_March</th>           <td>209.4552</td>  <td>220.2604</td> <td>0.9509</td>  <td>0.3421</td>  <td>-223.4036</td> <td>642.3141</td> \n",
       "</tr>\n",
       "<tr>\n",
       "  <th>mnth_May</th>             <td>295.1908</td>  <td>179.4680</td> <td>1.6448</td>  <td>0.1007</td>  <td>-57.5024</td>  <td>647.8839</td> \n",
       "</tr>\n",
       "<tr>\n",
       "  <th>mnth_November</th>        <td>-551.3856</td> <td>328.4108</td> <td>-1.6790</td> <td>0.0939</td> <td>-1196.7833</td>  <td>94.0120</td> \n",
       "</tr>\n",
       "<tr>\n",
       "  <th>mnth_October</th>         <td>180.3443</td>  <td>319.9530</td> <td>0.5637</td>  <td>0.5733</td>  <td>-448.4319</td> <td>809.1206</td> \n",
       "</tr>\n",
       "<tr>\n",
       "  <th>mnth_September</th>       <td>395.8406</td>  <td>274.6227</td> <td>1.4414</td>  <td>0.1502</td>  <td>-143.8520</td> <td>935.5331</td> \n",
       "</tr>\n",
       "<tr>\n",
       "  <th>holiday_holiday</th>       <td>97.1572</td>  <td>217.3293</td> <td>0.4471</td>  <td>0.6551</td>  <td>-329.9416</td> <td>524.2560</td> \n",
       "</tr>\n",
       "<tr>\n",
       "  <th>weekday_Monday</th>       <td>-257.5112</td> <td>136.0052</td> <td>-1.8934</td> <td>0.0589</td>  <td>-524.7906</td>  <td>9.7682</td>  \n",
       "</tr>\n",
       "<tr>\n",
       "  <th>weekday_Saturday</th>     <td>448.6111</td>  <td>149.5631</td> <td>2.9995</td>  <td>0.0029</td>  <td>154.6875</td>  <td>742.5348</td> \n",
       "</tr>\n",
       "<tr>\n",
       "  <th>weekday_Sunday</th>       <td>150.9836</td>  <td>149.3413</td> <td>1.0110</td>  <td>0.3126</td>  <td>-142.5041</td> <td>444.4713</td> \n",
       "</tr>\n",
       "<tr>\n",
       "  <th>weekday_Thursday</th>      <td>-1.6521</td>  <td>134.5709</td> <td>-0.0123</td> <td>0.9902</td>  <td>-266.1128</td> <td>262.8087</td> \n",
       "</tr>\n",
       "<tr>\n",
       "  <th>weekday_Tuesday</th>      <td>-116.7159</td> <td>130.2362</td> <td>-0.8962</td> <td>0.3706</td>  <td>-372.6581</td> <td>139.2262</td> \n",
       "</tr>\n",
       "<tr>\n",
       "  <th>weekday_Wednesday</th>    <td>-79.7201</td>  <td>133.2616</td> <td>-0.5982</td> <td>0.5500</td>  <td>-341.6077</td> <td>182.1676</td> \n",
       "</tr>\n",
       "<tr>\n",
       "  <th>workingday_working</th>   <td>454.8284</td>  <td>136.4567</td> <td>3.3331</td>  <td>0.0009</td>  <td>186.6617</td>  <td>722.9951</td> \n",
       "</tr>\n",
       "<tr>\n",
       "  <th>weathersit_Moderate</th>  <td>1500.9557</td> <td>252.0702</td> <td>5.9545</td>  <td>0.0000</td>  <td>1005.5837</td> <td>1996.3278</td>\n",
       "</tr>\n",
       "<tr>\n",
       "  <th>weathersit_Pleasant</th>  <td>1846.4774</td> <td>270.8994</td> <td>6.8161</td>  <td>0.0000</td>  <td>1314.1019</td> <td>2378.8530</td>\n",
       "</tr>\n",
       "</table>\n",
       "<table class=\"simpletable\">\n",
       "<tr>\n",
       "     <td>Omnibus:</td>    <td>59.623</td>  <td>Durbin-Watson:</td>          <td>1.899</td>      \n",
       "</tr>\n",
       "<tr>\n",
       "  <td>Prob(Omnibus):</td>  <td>0.000</td> <td>Jarque-Bera (JB):</td>       <td>145.532</td>     \n",
       "</tr>\n",
       "<tr>\n",
       "       <td>Skew:</td>     <td>-0.608</td>     <td>Prob(JB):</td>            <td>0.000</td>      \n",
       "</tr>\n",
       "<tr>\n",
       "     <td>Kurtosis:</td>    <td>5.314</td>  <td>Condition No.:</td>   <td>324299306322896128</td>\n",
       "</tr>\n",
       "</table>"
      ],
      "text/plain": [
       "<class 'statsmodels.iolib.summary2.Summary'>\n",
       "\"\"\"\n",
       "                      Results: Ordinary least squares\n",
       "===========================================================================\n",
       "Model:                  OLS                Adj. R-squared:       0.831     \n",
       "Dependent Variable:     cnt                AIC:                  8308.4925 \n",
       "Date:                   2018-11-21 02:56   BIC:                  8554.2019 \n",
       "No. Observations:       511                Log-Likelihood:       -4096.2   \n",
       "Df Model:               57                 F-statistic:          45.05     \n",
       "Df Residuals:           453                Prob (F-statistic):   1.42e-152 \n",
       "R-squared:              0.850              Scale:                6.0615e+05\n",
       "---------------------------------------------------------------------------\n",
       "                      Coef.    Std.Err.    t    P>|t|    [0.025     0.975] \n",
       "---------------------------------------------------------------------------\n",
       "const                1151.5804 466.7238  2.4674 0.0140   234.3680 2068.7928\n",
       "avtemp               3839.2535 417.7354  9.1906 0.0000  3018.3139 4660.1932\n",
       "hum                   -17.2159   3.8886 -4.4272 0.0000   -24.8579   -9.5739\n",
       "windspeed             -49.9462   7.7098 -6.4783 0.0000   -65.0977  -34.7948\n",
       "dteday_2              280.9040 277.9075  1.0108 0.3127  -265.2438  827.0519\n",
       "dteday_3              412.2808 277.2970  1.4868 0.1378  -132.6674  957.2289\n",
       "dteday_4              536.2154 291.8504  1.8373 0.0668   -37.3333 1109.7642\n",
       "dteday_5              409.5157 275.3315  1.4874 0.1376  -131.5698  950.6012\n",
       "dteday_6              587.4792 264.3926  2.2220 0.0268    67.8911 1107.0674\n",
       "dteday_7              500.8343 289.3831  1.7307 0.0842   -67.8656 1069.5342\n",
       "dteday_8              239.5056 270.5660  0.8852 0.3765  -292.2148  771.2259\n",
       "dteday_9              509.5156 266.5393  1.9116 0.0566   -14.2912 1033.3225\n",
       "dteday_10             333.3732 284.9937  1.1698 0.2427  -226.7006  893.4470\n",
       "dteday_11             588.1354 271.0988  2.1695 0.0306    55.3681 1120.9026\n",
       "dteday_12             480.9986 264.2778  1.8200 0.0694   -38.3641 1000.3613\n",
       "dteday_13             559.1218 289.6573  1.9303 0.0542   -10.1169 1128.3604\n",
       "dteday_14             518.9972 267.6901  1.9388 0.0531    -7.0712 1045.0656\n",
       "dteday_15             438.1622 279.6684  1.5667 0.1179  -111.4462  987.7706\n",
       "dteday_16             419.9288 268.9825  1.5612 0.1192  -108.6795  948.5370\n",
       "dteday_17             830.0566 261.2802  3.1769 0.0016   316.5850 1343.5282\n",
       "dteday_18             331.9895 283.5950  1.1706 0.2424  -225.3355  889.3145\n",
       "dteday_19             372.6323 289.5230  1.2871 0.1987  -196.3426  941.6071\n",
       "dteday_20             531.1501 282.2331  1.8820 0.0605   -23.4985 1085.7986\n",
       "dteday_21             369.7247 280.4364  1.3184 0.1880  -181.3929  920.8424\n",
       "dteday_22             226.8669 277.7453  0.8168 0.4145  -318.9623  772.6960\n",
       "dteday_23             153.9125 263.9423  0.5831 0.5601  -364.7908  672.6159\n",
       "dteday_24            -101.7312 284.3314 -0.3578 0.7207  -660.5034  457.0411\n",
       "dteday_25              28.6978 296.2742  0.0969 0.9229  -553.5446  610.9402\n",
       "dteday_26             418.4833 266.2591  1.5717 0.1167  -104.7730  941.7396\n",
       "dteday_27             297.1961 279.3576  1.0639 0.2880  -251.8015  846.1938\n",
       "dteday_28             210.8970 284.1597  0.7422 0.4584  -347.5376  769.3317\n",
       "dteday_29             -27.8968 287.3044 -0.0971 0.9227  -592.5115  536.7180\n",
       "dteday_30              44.6375 284.9007  0.1567 0.8756  -515.2535  604.5285\n",
       "dteday_31             693.8470 322.2726  2.1530 0.0318    60.5122 1327.1818\n",
       "season_Spring       -1102.8355 265.9861 -4.1462 0.0000 -1625.5552 -580.1157\n",
       "season_Summer        -202.3008 217.9330 -0.9283 0.3538  -630.5860  225.9843\n",
       "season_Winter         470.3750 259.0767  1.8156 0.0701   -38.7664  979.5164\n",
       "yr_2012              1925.0260  72.4479 26.5712 0.0000  1782.6503 2067.4017\n",
       "mnth_August          -227.3648 288.8099 -0.7872 0.4315  -794.9383  340.2087\n",
       "mnth_December        -442.9947 302.2209 -1.4658 0.1434 -1036.9237  150.9342\n",
       "mnth_February        -198.2276 285.0331 -0.6955 0.4871  -758.3787  361.9235\n",
       "mnth_January         -334.0607 295.7680 -1.1295 0.2593  -915.3082  247.1868\n",
       "mnth_July            -696.1617 301.3424 -2.3102 0.0213 -1288.3643 -103.9592\n",
       "mnth_June            -156.4763 216.7452 -0.7219 0.4707  -582.4271  269.4746\n",
       "mnth_March            209.4552 220.2604  0.9509 0.3421  -223.4036  642.3141\n",
       "mnth_May              295.1908 179.4680  1.6448 0.1007   -57.5024  647.8839\n",
       "mnth_November        -551.3856 328.4108 -1.6790 0.0939 -1196.7833   94.0120\n",
       "mnth_October          180.3443 319.9530  0.5637 0.5733  -448.4319  809.1206\n",
       "mnth_September        395.8406 274.6227  1.4414 0.1502  -143.8520  935.5331\n",
       "holiday_holiday        97.1572 217.3293  0.4471 0.6551  -329.9416  524.2560\n",
       "weekday_Monday       -257.5112 136.0052 -1.8934 0.0589  -524.7906    9.7682\n",
       "weekday_Saturday      448.6111 149.5631  2.9995 0.0029   154.6875  742.5348\n",
       "weekday_Sunday        150.9836 149.3413  1.0110 0.3126  -142.5041  444.4713\n",
       "weekday_Thursday       -1.6521 134.5709 -0.0123 0.9902  -266.1128  262.8087\n",
       "weekday_Tuesday      -116.7159 130.2362 -0.8962 0.3706  -372.6581  139.2262\n",
       "weekday_Wednesday     -79.7201 133.2616 -0.5982 0.5500  -341.6077  182.1676\n",
       "workingday_working    454.8284 136.4567  3.3331 0.0009   186.6617  722.9951\n",
       "weathersit_Moderate  1500.9557 252.0702  5.9545 0.0000  1005.5837 1996.3278\n",
       "weathersit_Pleasant  1846.4774 270.8994  6.8161 0.0000  1314.1019 2378.8530\n",
       "---------------------------------------------------------------------------\n",
       "Omnibus:              59.623      Durbin-Watson:         1.899             \n",
       "Prob(Omnibus):        0.000       Jarque-Bera (JB):      145.532           \n",
       "Skew:                 -0.608      Prob(JB):              0.000             \n",
       "Kurtosis:             5.314       Condition No.:         324299306322896128\n",
       "===========================================================================\n",
       "* The condition number is large (3e+17). This might indicate\n",
       "strong multicollinearity or other numerical problems.\n",
       "\"\"\""
      ]
     },
     "execution_count": 217,
     "metadata": {},
     "output_type": "execute_result"
    }
   ],
   "source": [
    "# Adding connstant\n",
    "dfo_constant = sm.add_constant(newdata)\n",
    "\n",
    "m_train1,m_test1, n_train1, n_test1 = train_test_split(dfo_constant, dfo_target, test_size = 0.30, random_state=0)\n",
    "\n",
    "# Lets build Linear Regression model using statsmodel\n",
    "import statsmodels.api as sm\n",
    "# Building Linear Regression model using OLS\n",
    "model2 = sm.OLS(n_train1, m_train1).fit()\n",
    "# Note the Swap of X and Y\n",
    "\n",
    "# Printing Linear Regression Summary\n",
    "model2.summary2()"
   ]
  },
  {
   "cell_type": "code",
   "execution_count": 40,
   "metadata": {},
   "outputs": [
    {
     "data": {
      "text/html": [
       "<div>\n",
       "<style scoped>\n",
       "    .dataframe tbody tr th:only-of-type {\n",
       "        vertical-align: middle;\n",
       "    }\n",
       "\n",
       "    .dataframe tbody tr th {\n",
       "        vertical-align: top;\n",
       "    }\n",
       "\n",
       "    .dataframe thead th {\n",
       "        text-align: right;\n",
       "    }\n",
       "</style>\n",
       "<table border=\"1\" class=\"dataframe\">\n",
       "  <thead>\n",
       "    <tr style=\"text-align: right;\">\n",
       "      <th></th>\n",
       "      <th>Model</th>\n",
       "      <th>R-Squared Value</th>\n",
       "      <th>Adj.R-Squared Value</th>\n",
       "      <th>RMSE</th>\n",
       "    </tr>\n",
       "  </thead>\n",
       "  <tbody>\n",
       "    <tr>\n",
       "      <th>0</th>\n",
       "      <td>Linear Regression Model with Constant</td>\n",
       "      <td>0.850045</td>\n",
       "      <td>0.831177</td>\n",
       "      <td>788.533184</td>\n",
       "    </tr>\n",
       "  </tbody>\n",
       "</table>\n",
       "</div>"
      ],
      "text/plain": [
       "                                    Model  R-Squared Value  \\\n",
       "0   Linear Regression Model with Constant         0.850045   \n",
       "\n",
       "   Adj.R-Squared Value        RMSE  \n",
       "0             0.831177  788.533184  "
      ]
     },
     "execution_count": 40,
     "metadata": {},
     "output_type": "execute_result"
    }
   ],
   "source": [
    "# Predicting the model on test data\n",
    "predictions2 = model2.predict(m_test1)\n",
    "tmp2 = pd.Series({'Model': \" Linear Regression Model with Constant\",\n",
    "'R-Squared Value' : model2.rsquared,\n",
    "'Adj.R-Squared Value': model2.rsquared_adj,\n",
    "'RMSE': rmse(predictions2, n_test1)})\n",
    "model2_report = models_report.append(tmp2, ignore_index = True)\n",
    "model2_report"
   ]
  },
  {
   "cell_type": "code",
   "execution_count": 218,
   "metadata": {},
   "outputs": [
    {
     "name": "stdout",
     "output_type": "stream",
     "text": [
      "m_train  (511, 14)\n",
      "m_test  (220, 14)\n",
      "n_train  (511,)\n",
      "n_test  (220,)\n"
     ]
    },
    {
     "data": {
      "text/html": [
       "<table class=\"simpletable\">\n",
       "<caption>OLS Regression Results</caption>\n",
       "<tr>\n",
       "  <th>Dep. Variable:</th>           <td>cnt</td>       <th>  R-squared:         </th> <td>   0.972</td>\n",
       "</tr>\n",
       "<tr>\n",
       "  <th>Model:</th>                   <td>OLS</td>       <th>  Adj. R-squared:    </th> <td>   0.971</td>\n",
       "</tr>\n",
       "<tr>\n",
       "  <th>Method:</th>             <td>Least Squares</td>  <th>  F-statistic:       </th> <td>   1223.</td>\n",
       "</tr>\n",
       "<tr>\n",
       "  <th>Date:</th>             <td>Wed, 21 Nov 2018</td> <th>  Prob (F-statistic):</th>  <td>  0.00</td> \n",
       "</tr>\n",
       "<tr>\n",
       "  <th>Time:</th>                 <td>02:56:43</td>     <th>  Log-Likelihood:    </th> <td> -4152.3</td>\n",
       "</tr>\n",
       "<tr>\n",
       "  <th>No. Observations:</th>      <td>   511</td>      <th>  AIC:               </th> <td>   8333.</td>\n",
       "</tr>\n",
       "<tr>\n",
       "  <th>Df Residuals:</th>          <td>   497</td>      <th>  BIC:               </th> <td>   8392.</td>\n",
       "</tr>\n",
       "<tr>\n",
       "  <th>Df Model:</th>              <td>    14</td>      <th>                     </th>     <td> </td>   \n",
       "</tr>\n",
       "<tr>\n",
       "  <th>Covariance Type:</th>      <td>nonrobust</td>    <th>                     </th>     <td> </td>   \n",
       "</tr>\n",
       "</table>\n",
       "<table class=\"simpletable\">\n",
       "<tr>\n",
       "           <td></td>              <th>coef</th>     <th>std err</th>      <th>t</th>      <th>P>|t|</th>  <th>[0.025</th>    <th>0.975]</th>  \n",
       "</tr>\n",
       "<tr>\n",
       "  <th>avtemp</th>              <td> 3818.4013</td> <td>  235.312</td> <td>   16.227</td> <td> 0.000</td> <td> 3356.073</td> <td> 4280.729</td>\n",
       "</tr>\n",
       "<tr>\n",
       "  <th>hum</th>                 <td>   -4.3544</td> <td>    2.407</td> <td>   -1.809</td> <td> 0.071</td> <td>   -9.083</td> <td>    0.374</td>\n",
       "</tr>\n",
       "<tr>\n",
       "  <th>windspeed</th>           <td>  -37.6088</td> <td>    6.650</td> <td>   -5.655</td> <td> 0.000</td> <td>  -50.675</td> <td>  -24.543</td>\n",
       "</tr>\n",
       "<tr>\n",
       "  <th>dteday_6</th>            <td>  281.2442</td> <td>  186.418</td> <td>    1.509</td> <td> 0.132</td> <td>  -85.021</td> <td>  647.509</td>\n",
       "</tr>\n",
       "<tr>\n",
       "  <th>dteday_11</th>           <td>  334.9105</td> <td>  199.973</td> <td>    1.675</td> <td> 0.095</td> <td>  -57.986</td> <td>  727.807</td>\n",
       "</tr>\n",
       "<tr>\n",
       "  <th>dteday_17</th>           <td>  461.3327</td> <td>  185.953</td> <td>    2.481</td> <td> 0.013</td> <td>   95.982</td> <td>  826.683</td>\n",
       "</tr>\n",
       "<tr>\n",
       "  <th>dteday_31</th>           <td>  252.8324</td> <td>  267.025</td> <td>    0.947</td> <td> 0.344</td> <td> -271.805</td> <td>  777.470</td>\n",
       "</tr>\n",
       "<tr>\n",
       "  <th>season_Spring</th>       <td>-1249.3930</td> <td>  109.085</td> <td>  -11.453</td> <td> 0.000</td> <td>-1463.718</td> <td>-1035.068</td>\n",
       "</tr>\n",
       "<tr>\n",
       "  <th>yr_2012</th>             <td> 1993.3010</td> <td>   73.930</td> <td>   26.962</td> <td> 0.000</td> <td> 1848.047</td> <td> 2138.555</td>\n",
       "</tr>\n",
       "<tr>\n",
       "  <th>mnth_July</th>           <td> -644.6542</td> <td>  155.375</td> <td>   -4.149</td> <td> 0.000</td> <td> -949.927</td> <td> -339.382</td>\n",
       "</tr>\n",
       "<tr>\n",
       "  <th>weekday_Saturday</th>    <td>  374.4482</td> <td>  133.055</td> <td>    2.814</td> <td> 0.005</td> <td>  113.028</td> <td>  635.868</td>\n",
       "</tr>\n",
       "<tr>\n",
       "  <th>workingday_working</th>  <td>  304.7202</td> <td>   98.991</td> <td>    3.078</td> <td> 0.002</td> <td>  110.229</td> <td>  499.212</td>\n",
       "</tr>\n",
       "<tr>\n",
       "  <th>weathersit_Moderate</th> <td> 1997.4827</td> <td>  185.276</td> <td>   10.781</td> <td> 0.000</td> <td> 1633.463</td> <td> 2361.503</td>\n",
       "</tr>\n",
       "<tr>\n",
       "  <th>weathersit_Pleasant</th> <td> 2492.8733</td> <td>  164.580</td> <td>   15.147</td> <td> 0.000</td> <td> 2169.515</td> <td> 2816.232</td>\n",
       "</tr>\n",
       "</table>\n",
       "<table class=\"simpletable\">\n",
       "<tr>\n",
       "  <th>Omnibus:</th>       <td>42.972</td> <th>  Durbin-Watson:     </th> <td>   1.903</td>\n",
       "</tr>\n",
       "<tr>\n",
       "  <th>Prob(Omnibus):</th> <td> 0.000</td> <th>  Jarque-Bera (JB):  </th> <td>  83.064</td>\n",
       "</tr>\n",
       "<tr>\n",
       "  <th>Skew:</th>          <td>-0.513</td> <th>  Prob(JB):          </th> <td>9.18e-19</td>\n",
       "</tr>\n",
       "<tr>\n",
       "  <th>Kurtosis:</th>      <td> 4.688</td> <th>  Cond. No.          </th> <td>    513.</td>\n",
       "</tr>\n",
       "</table><br/><br/>Warnings:<br/>[1] Standard Errors assume that the covariance matrix of the errors is correctly specified."
      ],
      "text/plain": [
       "<class 'statsmodels.iolib.summary.Summary'>\n",
       "\"\"\"\n",
       "                            OLS Regression Results                            \n",
       "==============================================================================\n",
       "Dep. Variable:                    cnt   R-squared:                       0.972\n",
       "Model:                            OLS   Adj. R-squared:                  0.971\n",
       "Method:                 Least Squares   F-statistic:                     1223.\n",
       "Date:                Wed, 21 Nov 2018   Prob (F-statistic):               0.00\n",
       "Time:                        02:56:43   Log-Likelihood:                -4152.3\n",
       "No. Observations:                 511   AIC:                             8333.\n",
       "Df Residuals:                     497   BIC:                             8392.\n",
       "Df Model:                          14                                         \n",
       "Covariance Type:            nonrobust                                         \n",
       "=======================================================================================\n",
       "                          coef    std err          t      P>|t|      [0.025      0.975]\n",
       "---------------------------------------------------------------------------------------\n",
       "avtemp               3818.4013    235.312     16.227      0.000    3356.073    4280.729\n",
       "hum                    -4.3544      2.407     -1.809      0.071      -9.083       0.374\n",
       "windspeed             -37.6088      6.650     -5.655      0.000     -50.675     -24.543\n",
       "dteday_6              281.2442    186.418      1.509      0.132     -85.021     647.509\n",
       "dteday_11             334.9105    199.973      1.675      0.095     -57.986     727.807\n",
       "dteday_17             461.3327    185.953      2.481      0.013      95.982     826.683\n",
       "dteday_31             252.8324    267.025      0.947      0.344    -271.805     777.470\n",
       "season_Spring       -1249.3930    109.085    -11.453      0.000   -1463.718   -1035.068\n",
       "yr_2012              1993.3010     73.930     26.962      0.000    1848.047    2138.555\n",
       "mnth_July            -644.6542    155.375     -4.149      0.000    -949.927    -339.382\n",
       "weekday_Saturday      374.4482    133.055      2.814      0.005     113.028     635.868\n",
       "workingday_working    304.7202     98.991      3.078      0.002     110.229     499.212\n",
       "weathersit_Moderate  1997.4827    185.276     10.781      0.000    1633.463    2361.503\n",
       "weathersit_Pleasant  2492.8733    164.580     15.147      0.000    2169.515    2816.232\n",
       "==============================================================================\n",
       "Omnibus:                       42.972   Durbin-Watson:                   1.903\n",
       "Prob(Omnibus):                  0.000   Jarque-Bera (JB):               83.064\n",
       "Skew:                          -0.513   Prob(JB):                     9.18e-19\n",
       "Kurtosis:                       4.688   Cond. No.                         513.\n",
       "==============================================================================\n",
       "\n",
       "Warnings:\n",
       "[1] Standard Errors assume that the covariance matrix of the errors is correctly specified.\n",
       "\"\"\""
      ]
     },
     "execution_count": 218,
     "metadata": {},
     "output_type": "execute_result"
    }
   ],
   "source": [
    "# *** Removing the variables with p-values greater than 0.05\n",
    "# using concat function we merging two dataframe for furthere analysis\n",
    "newdata = newdata[['avtemp', 'hum', 'windspeed','dteday_6','dteday_11', \n",
    "       'dteday_17','dteday_31', 'season_Spring','yr_2012', 'mnth_July','weekday_Saturday',\n",
    "       'workingday_working', 'weathersit_Moderate', 'weathersit_Pleasant']]\n",
    "\n",
    "#Let us now split the dataset into train & test\n",
    "from sklearn.cross_validation import train_test_split\n",
    "m_train,m_test, n_train, n_test = train_test_split(newdata, dfo_target, test_size = 0.30, random_state=0)\n",
    "print(\"m_train \",m_train.shape)\n",
    "print(\"m_test \",m_test.shape)\n",
    "print(\"n_train \",n_train.shape)\n",
    "print(\"n_test \",n_test.shape)\n",
    "\n",
    "#******************BASE MODEL******************\n",
    "# Lets build Linear Regression model using statsmodel\n",
    "import statsmodels.api as sm\n",
    "# Building Linear Regression model using OLS\n",
    "model3 = sm.OLS(n_train, m_train).fit()\n",
    "# Note the Swap of X and Y\n",
    "# Printing Linear Regression Summary\n",
    "\n",
    "model3.summary()\n"
   ]
  },
  {
   "cell_type": "code",
   "execution_count": 219,
   "metadata": {},
   "outputs": [
    {
     "data": {
      "text/html": [
       "<div>\n",
       "<style scoped>\n",
       "    .dataframe tbody tr th:only-of-type {\n",
       "        vertical-align: middle;\n",
       "    }\n",
       "\n",
       "    .dataframe tbody tr th {\n",
       "        vertical-align: top;\n",
       "    }\n",
       "\n",
       "    .dataframe thead th {\n",
       "        text-align: right;\n",
       "    }\n",
       "</style>\n",
       "<table border=\"1\" class=\"dataframe\">\n",
       "  <thead>\n",
       "    <tr style=\"text-align: right;\">\n",
       "      <th></th>\n",
       "      <th>Model</th>\n",
       "      <th>R-Squared Value</th>\n",
       "      <th>Adj.R-Squared Value</th>\n",
       "      <th>RMSE</th>\n",
       "    </tr>\n",
       "  </thead>\n",
       "  <tbody>\n",
       "    <tr>\n",
       "      <th>0</th>\n",
       "      <td>Linear Regression Model with selected features</td>\n",
       "      <td>0.971792</td>\n",
       "      <td>0.970998</td>\n",
       "      <td>802.513293</td>\n",
       "    </tr>\n",
       "  </tbody>\n",
       "</table>\n",
       "</div>"
      ],
      "text/plain": [
       "                                             Model  R-Squared Value  \\\n",
       "0   Linear Regression Model with selected features         0.971792   \n",
       "\n",
       "   Adj.R-Squared Value        RMSE  \n",
       "0             0.970998  802.513293  "
      ]
     },
     "execution_count": 219,
     "metadata": {},
     "output_type": "execute_result"
    }
   ],
   "source": [
    "# Predicting the model on test data\n",
    "predictions3 = model3.predict(m_test)\n",
    "tmp2 = pd.Series({'Model': \" Linear Regression Model with selected features\",\n",
    "'R-Squared Value' : model3.rsquared,\n",
    "'Adj.R-Squared Value': model3.rsquared_adj,\n",
    "'RMSE': rmse(predictions3, n_test)})\n",
    "model3_report = models_report.append(tmp2, ignore_index = True)\n",
    "model3_report"
   ]
  },
  {
   "cell_type": "code",
   "execution_count": 220,
   "metadata": {},
   "outputs": [
    {
     "name": "stdout",
     "output_type": "stream",
     "text": [
      "m_train  (511, 10)\n",
      "m_test  (220, 10)\n",
      "n_train  (511,)\n",
      "n_test  (220,)\n"
     ]
    },
    {
     "data": {
      "text/html": [
       "<table class=\"simpletable\">\n",
       "<caption>OLS Regression Results</caption>\n",
       "<tr>\n",
       "  <th>Dep. Variable:</th>           <td>cnt</td>       <th>  R-squared:         </th> <td>   0.971</td>\n",
       "</tr>\n",
       "<tr>\n",
       "  <th>Model:</th>                   <td>OLS</td>       <th>  Adj. R-squared:    </th> <td>   0.971</td>\n",
       "</tr>\n",
       "<tr>\n",
       "  <th>Method:</th>             <td>Least Squares</td>  <th>  F-statistic:       </th> <td>   1696.</td>\n",
       "</tr>\n",
       "<tr>\n",
       "  <th>Date:</th>             <td>Wed, 21 Nov 2018</td> <th>  Prob (F-statistic):</th>  <td>  0.00</td> \n",
       "</tr>\n",
       "<tr>\n",
       "  <th>Time:</th>                 <td>02:56:53</td>     <th>  Log-Likelihood:    </th> <td> -4156.6</td>\n",
       "</tr>\n",
       "<tr>\n",
       "  <th>No. Observations:</th>      <td>   511</td>      <th>  AIC:               </th> <td>   8333.</td>\n",
       "</tr>\n",
       "<tr>\n",
       "  <th>Df Residuals:</th>          <td>   501</td>      <th>  BIC:               </th> <td>   8376.</td>\n",
       "</tr>\n",
       "<tr>\n",
       "  <th>Df Model:</th>              <td>    10</td>      <th>                     </th>     <td> </td>   \n",
       "</tr>\n",
       "<tr>\n",
       "  <th>Covariance Type:</th>      <td>nonrobust</td>    <th>                     </th>     <td> </td>   \n",
       "</tr>\n",
       "</table>\n",
       "<table class=\"simpletable\">\n",
       "<tr>\n",
       "           <td></td>              <th>coef</th>     <th>std err</th>      <th>t</th>      <th>P>|t|</th>  <th>[0.025</th>    <th>0.975]</th>  \n",
       "</tr>\n",
       "<tr>\n",
       "  <th>avtemp</th>              <td> 3643.6944</td> <td>  213.308</td> <td>   17.082</td> <td> 0.000</td> <td> 3224.607</td> <td> 4062.782</td>\n",
       "</tr>\n",
       "<tr>\n",
       "  <th>windspeed</th>           <td>  -38.7156</td> <td>    6.603</td> <td>   -5.863</td> <td> 0.000</td> <td>  -51.689</td> <td>  -25.742</td>\n",
       "</tr>\n",
       "<tr>\n",
       "  <th>dteday_17</th>           <td>  441.4312</td> <td>  186.368</td> <td>    2.369</td> <td> 0.018</td> <td>   75.273</td> <td>  807.589</td>\n",
       "</tr>\n",
       "<tr>\n",
       "  <th>season_Spring</th>       <td>-1273.2457</td> <td>  108.145</td> <td>  -11.774</td> <td> 0.000</td> <td>-1485.719</td> <td>-1060.772</td>\n",
       "</tr>\n",
       "<tr>\n",
       "  <th>yr_2012</th>             <td> 2006.4989</td> <td>   74.037</td> <td>   27.101</td> <td> 0.000</td> <td> 1861.037</td> <td> 2151.961</td>\n",
       "</tr>\n",
       "<tr>\n",
       "  <th>mnth_July</th>           <td> -592.4739</td> <td>  153.424</td> <td>   -3.862</td> <td> 0.000</td> <td> -893.907</td> <td> -291.040</td>\n",
       "</tr>\n",
       "<tr>\n",
       "  <th>weekday_Saturday</th>    <td>  340.2936</td> <td>  131.868</td> <td>    2.581</td> <td> 0.010</td> <td>   81.211</td> <td>  599.376</td>\n",
       "</tr>\n",
       "<tr>\n",
       "  <th>workingday_working</th>  <td>  285.2533</td> <td>   97.748</td> <td>    2.918</td> <td> 0.004</td> <td>   93.207</td> <td>  477.299</td>\n",
       "</tr>\n",
       "<tr>\n",
       "  <th>weathersit_Moderate</th> <td> 1827.0312</td> <td>  159.305</td> <td>   11.469</td> <td> 0.000</td> <td> 1514.044</td> <td> 2140.018</td>\n",
       "</tr>\n",
       "<tr>\n",
       "  <th>weathersit_Pleasant</th> <td> 2399.8619</td> <td>  155.075</td> <td>   15.475</td> <td> 0.000</td> <td> 2095.184</td> <td> 2704.540</td>\n",
       "</tr>\n",
       "</table>\n",
       "<table class=\"simpletable\">\n",
       "<tr>\n",
       "  <th>Omnibus:</th>       <td>49.544</td> <th>  Durbin-Watson:     </th> <td>   1.894</td>\n",
       "</tr>\n",
       "<tr>\n",
       "  <th>Prob(Omnibus):</th> <td> 0.000</td> <th>  Jarque-Bera (JB):  </th> <td>  99.307</td>\n",
       "</tr>\n",
       "<tr>\n",
       "  <th>Skew:</th>          <td>-0.571</td> <th>  Prob(JB):          </th> <td>2.73e-22</td>\n",
       "</tr>\n",
       "<tr>\n",
       "  <th>Kurtosis:</th>      <td> 4.834</td> <th>  Cond. No.          </th> <td>    107.</td>\n",
       "</tr>\n",
       "</table><br/><br/>Warnings:<br/>[1] Standard Errors assume that the covariance matrix of the errors is correctly specified."
      ],
      "text/plain": [
       "<class 'statsmodels.iolib.summary.Summary'>\n",
       "\"\"\"\n",
       "                            OLS Regression Results                            \n",
       "==============================================================================\n",
       "Dep. Variable:                    cnt   R-squared:                       0.971\n",
       "Model:                            OLS   Adj. R-squared:                  0.971\n",
       "Method:                 Least Squares   F-statistic:                     1696.\n",
       "Date:                Wed, 21 Nov 2018   Prob (F-statistic):               0.00\n",
       "Time:                        02:56:53   Log-Likelihood:                -4156.6\n",
       "No. Observations:                 511   AIC:                             8333.\n",
       "Df Residuals:                     501   BIC:                             8376.\n",
       "Df Model:                          10                                         \n",
       "Covariance Type:            nonrobust                                         \n",
       "=======================================================================================\n",
       "                          coef    std err          t      P>|t|      [0.025      0.975]\n",
       "---------------------------------------------------------------------------------------\n",
       "avtemp               3643.6944    213.308     17.082      0.000    3224.607    4062.782\n",
       "windspeed             -38.7156      6.603     -5.863      0.000     -51.689     -25.742\n",
       "dteday_17             441.4312    186.368      2.369      0.018      75.273     807.589\n",
       "season_Spring       -1273.2457    108.145    -11.774      0.000   -1485.719   -1060.772\n",
       "yr_2012              2006.4989     74.037     27.101      0.000    1861.037    2151.961\n",
       "mnth_July            -592.4739    153.424     -3.862      0.000    -893.907    -291.040\n",
       "weekday_Saturday      340.2936    131.868      2.581      0.010      81.211     599.376\n",
       "workingday_working    285.2533     97.748      2.918      0.004      93.207     477.299\n",
       "weathersit_Moderate  1827.0312    159.305     11.469      0.000    1514.044    2140.018\n",
       "weathersit_Pleasant  2399.8619    155.075     15.475      0.000    2095.184    2704.540\n",
       "==============================================================================\n",
       "Omnibus:                       49.544   Durbin-Watson:                   1.894\n",
       "Prob(Omnibus):                  0.000   Jarque-Bera (JB):               99.307\n",
       "Skew:                          -0.571   Prob(JB):                     2.73e-22\n",
       "Kurtosis:                       4.834   Cond. No.                         107.\n",
       "==============================================================================\n",
       "\n",
       "Warnings:\n",
       "[1] Standard Errors assume that the covariance matrix of the errors is correctly specified.\n",
       "\"\"\""
      ]
     },
     "execution_count": 220,
     "metadata": {},
     "output_type": "execute_result"
    }
   ],
   "source": [
    "# *** Removing the variables with p-values greater than 0.05\n",
    "# using concat function we merging two dataframe for furthere analysis\n",
    "newdata = newdata[['avtemp', 'windspeed','dteday_17', 'season_Spring','yr_2012', 'mnth_July','weekday_Saturday',\n",
    "       'workingday_working', 'weathersit_Moderate', 'weathersit_Pleasant']]\n",
    "\n",
    "#Let us now split the dataset into train & test\n",
    "from sklearn.cross_validation import train_test_split\n",
    "m_train,m_test, n_train, n_test = train_test_split(newdata, dfo_target, test_size = 0.30, random_state=0)\n",
    "print(\"m_train \",m_train.shape)\n",
    "print(\"m_test \",m_test.shape)\n",
    "print(\"n_train \",n_train.shape)\n",
    "print(\"n_test \",n_test.shape)\n",
    "\n",
    "#******************BASE MODEL******************\n",
    "# Lets build Linear Regression model using statsmodel\n",
    "import statsmodels.api as sm\n",
    "# Building Linear Regression model using OLS\n",
    "model4 = sm.OLS(n_train, m_train).fit()\n",
    "# Note the Swap of X and Y\n",
    "# Printing Linear Regression Summary\n",
    "\n",
    "model4.summary()\n"
   ]
  },
  {
   "cell_type": "code",
   "execution_count": 221,
   "metadata": {},
   "outputs": [
    {
     "data": {
      "text/html": [
       "<div>\n",
       "<style scoped>\n",
       "    .dataframe tbody tr th:only-of-type {\n",
       "        vertical-align: middle;\n",
       "    }\n",
       "\n",
       "    .dataframe tbody tr th {\n",
       "        vertical-align: top;\n",
       "    }\n",
       "\n",
       "    .dataframe thead th {\n",
       "        text-align: right;\n",
       "    }\n",
       "</style>\n",
       "<table border=\"1\" class=\"dataframe\">\n",
       "  <thead>\n",
       "    <tr style=\"text-align: right;\">\n",
       "      <th></th>\n",
       "      <th>Model</th>\n",
       "      <th>R-Squared Value</th>\n",
       "      <th>Adj.R-Squared Value</th>\n",
       "      <th>RMSE</th>\n",
       "    </tr>\n",
       "  </thead>\n",
       "  <tbody>\n",
       "    <tr>\n",
       "      <th>0</th>\n",
       "      <td>Final Optimized Linear Regression Model with ...</td>\n",
       "      <td>0.971315</td>\n",
       "      <td>0.970742</td>\n",
       "      <td>805.461551</td>\n",
       "    </tr>\n",
       "  </tbody>\n",
       "</table>\n",
       "</div>"
      ],
      "text/plain": [
       "                                               Model  R-Squared Value  \\\n",
       "0   Final Optimized Linear Regression Model with ...         0.971315   \n",
       "\n",
       "   Adj.R-Squared Value        RMSE  \n",
       "0             0.970742  805.461551  "
      ]
     },
     "execution_count": 221,
     "metadata": {},
     "output_type": "execute_result"
    }
   ],
   "source": [
    "# Predicting the model on test data\n",
    "predictions4 = model4.predict(m_test)\n",
    "tmp2 = pd.Series({'Model': \" Final Optimized Linear Regression Model with reduced features\",\n",
    "'R-Squared Value' : model4.rsquared,\n",
    "'Adj.R-Squared Value': model4.rsquared_adj,\n",
    "'RMSE': rmse(predictions4, n_test)})\n",
    "model4_report = models_report.append(tmp2, ignore_index = True)\n",
    "model4_report"
   ]
  },
  {
   "cell_type": "code",
   "execution_count": 222,
   "metadata": {},
   "outputs": [
    {
     "name": "stdout",
     "output_type": "stream",
     "text": [
      "81.42 %\n"
     ]
    }
   ],
   "source": [
    "def MAPE(y_true,y_pred):\n",
    "    mape = np.mean(np.abs(y_true-y_pred)/y_true)\n",
    "    return mape\n",
    "\n",
    "accuracy = 1-MAPE(n_test,predictions4)\n",
    "print(format(round(accuracy*100 ,2))+' %')"
   ]
  },
  {
   "cell_type": "code",
   "execution_count": 223,
   "metadata": {},
   "outputs": [
    {
     "data": {
      "text/plain": [
       "<matplotlib.lines.Line2D at 0x18137240>"
      ]
     },
     "execution_count": 223,
     "metadata": {},
     "output_type": "execute_result"
    },
    {
     "data": {
      "image/png": "[encoded data removed]",
      "text/plain": [
       "<Figure size 432x288 with 1 Axes>"
      ]
     },
     "metadata": {},
     "output_type": "display_data"
    }
   ],
   "source": [
    "residuals  = predictions4-n_test\n",
    "fig = plt.figure()\n",
    "axes = fig.add_axes([0, 0, 1.0, 1.0]) \n",
    "plt.scatter(residuals,n_test)\n",
    "axes.axhline(color=\"black\", ls=\"--\") # This creates a horizon line (like abline in R)"
   ]
  },
  {
   "cell_type": "code",
   "execution_count": 225,
   "metadata": {},
   "outputs": [
    {
     "data": {
      "image/png": "[encoded data removed]",
      "text/plain": [
       "<Figure size 432x288 with 1 Axes>"
      ]
     },
     "metadata": {},
     "output_type": "display_data"
    }
   ],
   "source": [
    "res = model4.resid\n",
    "import scipy.stats as stats\n",
    "fig = sm.qqplot(res, stats.t, fit=True, line='45')\n",
    "plt.title('Normal Q-Q')\n",
    "plt.xlabel('Theoretical Quantiles')\n",
    "plt.ylabel('Standardized Residuals');\n",
    "plt.show()"
   ]
  },
  {
   "cell_type": "code",
   "execution_count": 226,
   "metadata": {},
   "outputs": [],
   "source": [
    "\n",
    "X = df.iloc[:,:-1].values # Matrix of features\n",
    "y = df.iloc[:,11].values     # Response variable \n",
    "\n",
    "le = LabelEncoder()\n",
    "c_cat = [0,1,2,3,4,5,6,7]\n",
    "for i in c_cat:\n",
    "    X[:,i] = le.fit_transform(X[:,i]).astype('str')\n",
    "\n",
    "oh_en = OneHotEncoder()\n",
    "X = oh_en.fit_transform(X).toarray()\n",
    "\n",
    "# Avoiding the dummy variale trap\n",
    "X = X[:, 1:]\n",
    "\n",
    "X_train, X_test, y_train, y_test = train_test_split(X,y, test_size = 0.2, random_state = 0)"
   ]
  },
  {
   "cell_type": "markdown",
   "metadata": {},
   "source": [
    "### Random Forest (Plain)"
   ]
  },
  {
   "cell_type": "code",
   "execution_count": 251,
   "metadata": {},
   "outputs": [
    {
     "name": "stdout",
     "output_type": "stream",
     "text": [
      "78.65 %\n"
     ]
    }
   ],
   "source": [
    "from sklearn.ensemble import RandomForestRegressor\n",
    "regressor = RandomForestRegressor(n_estimators= 300, random_state=0)\n",
    "regressor.fit(X_train,y_train)\n",
    "\n",
    "pr_cnt = regressor.predict(X_test)\n",
    "\n",
    "\n",
    "accuracy = 1-MAPE(y_test,pr_cnt)\n",
    "print(format(round(accuracy*100 ,2))+' %')"
   ]
  },
  {
   "cell_type": "markdown",
   "metadata": {},
   "source": [
    "### RF with cross validation"
   ]
  },
  {
   "cell_type": "code",
   "execution_count": 252,
   "metadata": {},
   "outputs": [
    {
     "name": "stdout",
     "output_type": "stream",
     "text": [
      "77.47087339959737\n",
      "4.486536607263327\n"
     ]
    }
   ],
   "source": [
    "from sklearn.model_selection import cross_val_score\n",
    "accuracies = cross_val_score(estimator= regressor, X= X_train, y = y_train, cv = 7)\n",
    "\n",
    "# Mean absolute accuracy of random Forest regression with 10 folds cross validation\n",
    "print(abs(accuracies).mean()*100)\n",
    "print(abs(accuracies).std()*100)"
   ]
  },
  {
   "cell_type": "markdown",
   "metadata": {},
   "source": [
    "## XGBoost"
   ]
  },
  {
   "cell_type": "code",
   "execution_count": 265,
   "metadata": {},
   "outputs": [
    {
     "name": "stdout",
     "output_type": "stream",
     "text": [
      "78.04\n",
      "6.1\n"
     ]
    }
   ],
   "source": [
    "from xgboost import XGBRegressor\n",
    "\n",
    "\n",
    "reg = XGBRegressor(learning_rate= .1, n_estimators= 100, objective='reg:linear', silent= True, nthread=1,gamma=.5)\n",
    "reg.fit(X_train,y_train)\n",
    "y_pred = reg.predict(X_test)\n",
    "\n",
    "accuracies = cross_val_score(estimator=reg,X=X_train,y=y_train, cv=10)\n",
    "print(round(accuracies.mean()*100,2))\n",
    "print(round(accuracies.std()*100,2))"
   ]
  },
  {
   "cell_type": "code",
   "execution_count": 245,
   "metadata": {},
   "outputs": [
    {
     "name": "stdout",
     "output_type": "stream",
     "text": [
      "Variable: dteday               Importance: 0.01123595517128706\n",
      "Variable: weekday              Importance: 0.01123595517128706\n",
      "Variable: workingday           Importance: 0.008025682531297207\n",
      "Variable: yr                   Importance: 0.004815409425646067\n",
      "Variable: holiday              Importance: 0.0032102728728204966\n",
      "Variable: weathersit           Importance: 0.0032102728728204966\n",
      "Variable: season               Importance: 0.0016051364364102483\n",
      "Variable: mnth                 Importance: 0.0\n",
      "Variable: avtemp               Importance: 0.0\n",
      "Variable: hum                  Importance: 0.0\n",
      "Variable: windspeed            Importance: 0.0\n",
      "Variable: cnt                  Importance: 0.0\n"
     ]
    }
   ],
   "source": [
    "feature_list = list(df.columns)\n",
    "# Get numerical feature importances\n",
    "importances = list(reg.feature_importances_)\n",
    "\n",
    "# List of tuples with variable and importance\n",
    "feature_importances = [(feature, round(importance, 40)) for feature, importance in zip(feature_list, importances)]\n",
    "\n",
    "# Sort the feature importances by most important first\n",
    "feature_importances = sorted(feature_importances, key = lambda x: x[1], reverse = True)\n",
    "\n",
    "# Print out the feature and importances \n",
    "[print('Variable: {:20} Importance: {}'.format(*pair)) for pair in feature_importances];"
   ]
  },
  {
   "cell_type": "code",
   "execution_count": null,
   "metadata": {},
   "outputs": [],
   "source": []
  },
  {
   "cell_type": "code",
   "execution_count": null,
   "metadata": {},
   "outputs": [],
   "source": []
  },
  {
   "cell_type": "code",
   "execution_count": 511,
   "metadata": {},
   "outputs": [],
   "source": []
  },
  {
   "cell_type": "code",
   "execution_count": null,
   "metadata": {},
   "outputs": [],
   "source": []
  },
  {
   "cell_type": "code",
   "execution_count": null,
   "metadata": {},
   "outputs": [],
   "source": []
  },
  {
   "cell_type": "code",
   "execution_count": null,
   "metadata": {},
   "outputs": [],
   "source": []
  },
  {
   "cell_type": "code",
   "execution_count": null,
   "metadata": {},
   "outputs": [],
   "source": []
  },
  {
   "cell_type": "code",
   "execution_count": null,
   "metadata": {},
   "outputs": [],
   "source": []
  },
  {
   "cell_type": "code",
   "execution_count": null,
   "metadata": {},
   "outputs": [],
   "source": []
  }
 ],
 "metadata": {
  "kernelspec": {
   "display_name": "Python 3",
   "language": "python",
   "name": "python3"
  },
  "language_info": {
   "codemirror_mode": {
    "name": "ipython",
    "version": 3
   },
   "file_extension": ".py",
   "mimetype": "text/x-python",
   "name": "python",
   "nbconvert_exporter": "python",
   "pygments_lexer": "ipython3",
   "version": "3.7.0"
  }
 },
 "nbformat": 4,
 "nbformat_minor": 2
}
